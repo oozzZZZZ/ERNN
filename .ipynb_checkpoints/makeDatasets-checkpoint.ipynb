{
 "cells": [
  {
   "cell_type": "code",
   "execution_count": 1,
   "metadata": {
    "colab": {
     "base_uri": "https://localhost:8080/"
    },
    "id": "JKmo1hdt4fmA",
    "outputId": "a357a729-ebe5-40b9-b375-34c863598eda"
   },
   "outputs": [
    {
     "name": "stderr",
     "output_type": "stream",
     "text": [
      "/home/jupyter-oozzzzzz/.local/lib/python3.7/site-packages/librosa/util/decorators.py:9: NumbaDeprecationWarning: \u001b[1mAn import was requested from a module that has moved location.\n",
      "Import requested from: 'numba.decorators', please update to use 'numba.core.decorators' or pin to Numba version 0.48.0. This alias will not be present in Numba version 0.50.0.\u001b[0m\n",
      "  from numba.decorators import jit as optional_jit\n",
      "/home/jupyter-oozzzzzz/.local/lib/python3.7/site-packages/librosa/util/decorators.py:9: NumbaDeprecationWarning: \u001b[1mAn import was requested from a module that has moved location.\n",
      "Import of 'jit' requested from: 'numba.decorators', please update to use 'numba.core.decorators' or pin to Numba version 0.48.0. This alias will not be present in Numba version 0.50.0.\u001b[0m\n",
      "  from numba.decorators import jit as optional_jit\n"
     ]
    }
   ],
   "source": [
    "import librosa\n",
    "\n",
    "from IPython.display import display, Audio\n",
    "import glob\n",
    "from tqdm.notebook import tqdm\n",
    "import random\n",
    "import math\n",
    "\n",
    "# !pip install pyroomacoustics\n",
    "import pyroomacoustics as pa\n",
    "import pandas as pd\n",
    "\n",
    "# from scipy.signal import stft,istft,convolve\n",
    "import scipy as sp\n",
    "import numpy as np"
   ]
  },
  {
   "cell_type": "markdown",
   "metadata": {
    "id": "qH8hv4bQ4yXB"
   },
   "source": [
    "# Datasets\n",
    "音声　CMU Arctic Corpus\n",
    "\n",
    "```\n",
    "# CMU Arctic Corpusのダウンロード(初回のみ)\n",
    "pa.datasets.CMUArcticCorpus(basedir=\"./CMU_ARCTIC\" ,download=True)\n",
    "\n",
    "c_files = \"/disk107/Datasets/CMU_ARCTIC/*/*wav/*.wav\"\n",
    "```\n",
    "雑音 Ernie, UrbanSound8K\n",
    "```\n",
    "# n_files1 = glob.glob(noise1+\"/disk107/Datasets/noise/ernieNoise/trim_wavs/*wav\")#ernie\n",
    "# n_files2 = glob.glob(noise2+\"/disk107/Datasets/UrbanSound8K/audio/fold*/*.wav\")#urban\n",
    "```"
   ]
  },
  {
   "cell_type": "markdown",
   "metadata": {
    "id": "YY8pwIIj5ni5"
   },
   "source": [
    "# データセットの作成"
   ]
  },
  {
   "cell_type": "code",
   "execution_count": 2,
   "metadata": {},
   "outputs": [
    {
     "name": "stdout",
     "output_type": "stream",
     "text": [
      "clear voice is 15603 files\n",
      "Urban Noise is 8732 files\n"
     ]
    }
   ],
   "source": [
    "c_files = glob.glob(\"/disk107/Datasets/CMU_ARCTIC/*/*wav/*.wav\")\n",
    "n_files = glob.glob(\"/disk107/Datasets/UrbanSound8K/audio/fold*/*.wav\")\n",
    "\n",
    "print(\"clear voice is\",len(c_files),\"files\")\n",
    "print(\"Urban Noise is\",len(n_files),\"files\")\n",
    "\n",
    "audio_len = 2**15\n",
    "usedata_num = 15600\n",
    "sample_rate = 16000\n",
    "\n",
    "#stft\n",
    "hann_window = 512\n",
    "DFT_size = 512\n",
    "time_shift = 256"
   ]
  },
  {
   "cell_type": "code",
   "execution_count": 3,
   "metadata": {},
   "outputs": [],
   "source": [
    "def stft(x, win, step):\n",
    "    l = len(x) # 入力信号の長さ\n",
    "    N = len(win) # 窓幅、つまり切り出す幅\n",
    "    M = int(np.ceil(float(l - N + step) / step)) # スペクトログラムの時間フレーム数\n",
    "    \n",
    "    new_x = np.zeros(N + ((M - 1) * step),dtype=\"float64\")\n",
    "    new_x[: l] = x # 信号をいい感じの長さにする\n",
    "    \n",
    "    X = np.zeros([M, N], dtype = \"complex64\") # スペクトログラムの初期化(複素数型)\n",
    "    for m in range(M):\n",
    "        start = step * m\n",
    "        X[m, :] = sp.fft.fft(new_x[start : start + N] * win)\n",
    "    return X\n",
    "\n",
    "def istft(X, win, step):\n",
    "    M, N = X.shape\n",
    "    assert (len(win) == N), \"FFT length and window length are different.\"\n",
    "\n",
    "    l = (M - 1) * step + N\n",
    "    x = np.zeros(l,dtype=\"float64\")\n",
    "    wsum = np.zeros(l,dtype=\"float64\")\n",
    "    for m in range(M):\n",
    "        start = step * m\n",
    "        ### 滑らかな接続\n",
    "        x[start : start + N] = x[start : start + N] + sp.fft.ifft(X[m, :]).real * win\n",
    "        wsum[start : start + N] += win ** 2 \n",
    "    pos = (wsum != 0)\n",
    "    x_pre = x.copy()\n",
    "    ### 窓分のスケール合わせ\n",
    "    x[pos] /= wsum[pos]\n",
    "    return x"
   ]
  },
  {
   "cell_type": "code",
   "execution_count": 4,
   "metadata": {},
   "outputs": [],
   "source": [
    "def makePSM(addnoise,clean):\n",
    "    X, S = addnoise, clean #観測信号、所望信号stft型\n",
    "    A = (np.abs(S) / np.abs(X)) * np.cos((np.angle(S)-np.angle(X)))\n",
    "    B = np.maximum(A,0)\n",
    "    G = np.minimum(B,1)\n",
    "    return G"
   ]
  },
  {
   "cell_type": "code",
   "execution_count": 5,
   "metadata": {
    "id": "00Y5JGbu5mRw"
   },
   "outputs": [],
   "source": [
    "def addnoise(c_data,n_data,SNR = 0.1):\n",
    "    \"\"\"\n",
    "    c_data:音声データ\n",
    "    n_data:ノイズデータ\n",
    "    \n",
    "    クリーンな音声データに任意の雑音をつけます。\n",
    "    \n",
    "    音声データの長さがノイズデータの長さより長い時→ノイズデータをリピートして音声データの長さに合わせる\n",
    "    音声データの長さがノイズデータの長さより短い時→ノイズデータを音声な音声データの長さに合わせて切り捨て\n",
    "    \"\"\"\n",
    "\n",
    "    c_data_s = c_data * SNR #ernieノイズの音量が小さいので調整してます。\n",
    "\n",
    "    if len(c_data) == len(n_data):\n",
    "        noise_data = c_data_s + n_data\n",
    "\n",
    "    elif len(c_data) > len(n_data):\n",
    "\n",
    "        q, mod = divmod(len(c_data), len(n_data))\n",
    "\n",
    "        if q == 1:\n",
    "            new = np.append(n_data,n_data[:mod])\n",
    "\n",
    "        else:\n",
    "            new = np.append(n_data,n_data)\n",
    "            for i in range(q-2):\n",
    "                new = np.append(new,n_data)\n",
    "            new = np.append(new,n_data[:mod])\n",
    "\n",
    "        noise_data = c_data_s + new\n",
    "\n",
    "    else:\n",
    "        noise_data = c_data_s + n_data[:len(c_data)]\n",
    "        \n",
    "    return noise_data"
   ]
  },
  {
   "cell_type": "code",
   "execution_count": null,
   "metadata": {},
   "outputs": [
    {
     "name": "stdout",
     "output_type": "stream",
     "text": [
      "elapsed_time:0.0003070831298828125[sec]\n"
     ]
    },
    {
     "data": {
      "application/vnd.jupyter.widget-view+json": {
       "model_id": "b08e066e3f3e48ada6f61211c14ddb4a",
       "version_major": 2,
       "version_minor": 0
      },
      "text/plain": [
       "HBox(children=(FloatProgress(value=0.0, max=15600.0), HTML(value='')))"
      ]
     },
     "metadata": {},
     "output_type": "display_data"
    },
    {
     "name": "stderr",
     "output_type": "stream",
     "text": [
      "/opt/tljh/user/lib/python3.7/site-packages/ipykernel_launcher.py:53: ComplexWarning: Casting complex values to real discards the imaginary part\n"
     ]
    },
    {
     "name": "stdout",
     "output_type": "stream",
     "text": [
      "save\n",
      "save_time:0.0003070831298828125[sec]\n"
     ]
    },
    {
     "name": "stderr",
     "output_type": "stream",
     "text": [
      "/opt/tljh/user/lib/python3.7/site-packages/ipykernel_launcher.py:3: RuntimeWarning: invalid value encountered in true_divide\n",
      "  This is separate from the ipykernel package so we can avoid doing imports until\n"
     ]
    },
    {
     "name": "stdout",
     "output_type": "stream",
     "text": [
      "save\n"
     ]
    }
   ],
   "source": [
    "t = usedata_num\n",
    "\n",
    "import time\n",
    "\n",
    "start = time.time()\n",
    "\n",
    "data = np.zeros([t,127,512])\n",
    "label = np.zeros([t,127,512])\n",
    "\n",
    "elapsed_time = time.time() - start\n",
    "print (\"elapsed_time:{0}\".format(elapsed_time) + \"[sec]\")\n",
    "\n",
    "fftLen = 512 # とりあえず\n",
    "win = np.hamming(fftLen) # ハミング窓\n",
    "step = int(fftLen / 2)\n",
    "\n",
    "\n",
    "for i in tqdm(range(t)):\n",
    "    # audioデータを作る\n",
    "    c_data,_ = librosa.load(str(c_files[i]),sr=sample_rate)\n",
    "    if len(c_data)<audio_len:\n",
    "        _c_data = np.zeros([audio_len])\n",
    "        _c_data[:len(c_data)] = c_data\n",
    "        c_data = _c_data\n",
    "\n",
    "    else:\n",
    "        c_data = c_data[:audio_len]\n",
    "\n",
    "    #check\n",
    "#     if len(c_data) != audio_len:\n",
    "#         print(\"[CHECK] LENGTH ERROR\")\n",
    "\n",
    "    \"\"\"\n",
    "    雑音データが足りないので、雑音はランダムに選択し、SNRも0.7-1.2の間からランダムに選択してつけてる\n",
    "    \"\"\"\n",
    "    n_data,_ = librosa.load(n_files[random.randint(0,len(n_files)-1)],sr=sample_rate)\n",
    "    c_n_data = addnoise(c_data,n_data,SNR = random.uniform(0.7, 1.2))\n",
    "\n",
    "    # stft\n",
    "    stft_data = stft(c_n_data,win,step)\n",
    "    stft_label= stft(c_data,win,step)\n",
    "    stft_label_psm = makePSM(stft_data,stft_label)\n",
    "\n",
    "    # append\n",
    "    data[i] = stft_data\n",
    "    label[i] = stft_label_psm\n",
    "\n",
    "    _, _check = divmod(i, 500)\n",
    "\n",
    "    if _check == 0:#500回ごとに保存\n",
    "        print(\"save\")\n",
    "        start = time.time()\n",
    "        np.savez('test', data, label)\n",
    "        print (\"save_time:{0}\".format(elapsed_time) + \"[sec]\")\n",
    "        \n",
    "np.savez('datasets', data, label)"
   ]
  },
  {
   "cell_type": "code",
   "execution_count": 75,
   "metadata": {},
   "outputs": [
    {
     "data": {
      "text/plain": [
       "(array([-3.9672852e-04,  9.1552734e-05,  0.0000000e+00, ...,\n",
       "         2.1362305e-04,  4.8828125e-04,  1.0070801e-03], dtype=float32),\n",
       " 16000)"
      ]
     },
     "execution_count": 75,
     "metadata": {},
     "output_type": "execute_result"
    }
   ],
   "source": [
    "print(stft_data.shape,stft_label.shape,stft_label_psm.shape)"
   ]
  }
 ],
 "metadata": {
  "colab": {
   "name": "ENNN.ipynb",
   "provenance": []
  },
  "kernelspec": {
   "display_name": "Python 3",
   "language": "python",
   "name": "python3"
  },
  "language_info": {
   "codemirror_mode": {
    "name": "ipython",
    "version": 3
   },
   "file_extension": ".py",
   "mimetype": "text/x-python",
   "name": "python",
   "nbconvert_exporter": "python",
   "pygments_lexer": "ipython3",
   "version": "3.7.3"
  }
 },
 "nbformat": 4,
 "nbformat_minor": 4
}
