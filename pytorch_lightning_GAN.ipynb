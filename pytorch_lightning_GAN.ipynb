{
 "cells": [
  {
   "cell_type": "markdown",
   "metadata": {},
   "source": [
    "このチュートリアルを試してみます\n",
    "\n",
    "https://pytorch-lightning.readthedocs.io/en/latest/new-project.html"
   ]
  },
  {
   "cell_type": "code",
   "execution_count": 27,
   "metadata": {},
   "outputs": [],
   "source": [
    "import os\n",
    "import torch\n",
    "from torch import nn\n",
    "import torch.nn.functional as F\n",
    "from torchvision.datasets import MNIST\n",
    "from torch.utils.data import DataLoader, random_split\n",
    "from torchvision import transforms\n",
    "import pytorch_lightning as pl"
   ]
  },
  {
   "cell_type": "markdown",
   "metadata": {},
   "source": [
    "**Step 1: Define a LightningModule (nn.Module subclass)**\n",
    "\n",
    "A LightningModule defines a full system (ie: a GAN, autoencoder, BERT or a simple Image Classifier).\n",
    "\n",
    "* LightningModuleは1つのモデルではなく、複数のモデルからなるシステムを扱える2（この例でもencoderとdecoderを扱っている）\n",
    "* forwardメソッドとtraining_stepメソッドを分離forwardはデプロイしたモデルの推論でも使える）\n",
    "* training_stepメソッド（訓練）でlossを返している限りはLightningによって自動で最適化される（backward、optimizerの更新）\n",
    "\n",
    "注: Training_step はトレーニングループを定義します。Forwardは、推論/予測中のLightningModuleの動作を定義します。"
   ]
  },
  {
   "cell_type": "code",
   "execution_count": 28,
   "metadata": {},
   "outputs": [],
   "source": [
    "# MNIST 28*28 の手書き文字データセットを使います\n",
    "class LitAutoEncoder(pl.LightningModule):\n",
    "    def __init__(self):\n",
    "        super(LitAutoEncoder, self).__init__()\n",
    "        self.encoder = nn.Sequential(\n",
    "            nn.Linear(28 * 28, 64),\n",
    "            nn.ReLU(),\n",
    "            nn.Linear(64, 3),\n",
    "        )\n",
    "        #ここはこういう書き方でもOK\n",
    "#         self.encoder = nn.Sequential(nn.Linear(28 * 28, 128), nn.ReLU(), nn.Linear(128, 3))\n",
    "        self.decoder = nn.Sequential(\n",
    "            nn.Linear(3, 64),\n",
    "            nn.ReLU(),\n",
    "            nn.Linear(64, 28 * 28),\n",
    "        )\n",
    "#         self.decoder = nn.Sequential(nn.Linear(3, 128), nn.ReLU(), nn.Linear(128, 28 * 28))\n",
    "    def forward(self, x):\n",
    "        # Lightningではforwardは予測/推論のアクションを定義します。\n",
    "        embedding = self.encoder(x)\n",
    "        return embedding\n",
    "\n",
    "    def configure_optimizers(self):# Optimaizerの設定\n",
    "        optimizer = torch.optim.Adam(self.parameters(), lr=1e-3)\n",
    "        return optimizer\n",
    "\n",
    "    def training_step(self, batch, batch_idx):\n",
    "        # training_stepでは訓練ループを定義していて、これはforwardとは独立しています\n",
    "        x, y = batch\n",
    "        x = x.view(x.size(0), -1)\n",
    "        z = self.encoder(x)  # forwardを呼び出す self(x) でもよい\n",
    "        x_hat = self.decoder(z)\n",
    "        loss = F.mse_loss(x_hat, x)\n",
    "        self.log(\"train_loss\", loss)\n",
    "        return loss\n",
    "    # lossを返している限りはLightningによって自動で最適化される（backward、optimizerの更新）\n",
    "\n",
    "    def validation_step(self, val_batch, batch_idx):\n",
    "        # 検証ステップ\n",
    "        x, y = val_batch\n",
    "        x = x.view(x.size(0), -1)\n",
    "        z = self.encoder(x)\n",
    "        x_hat = self.decoder(z)\n",
    "        loss = F.mse_loss(x_hat, x)\n",
    "        self.log(\"val_loss\", loss)\n",
    "        return loss"
   ]
  },
  {
   "cell_type": "markdown",
   "metadata": {},
   "source": [
    "**Step2 : Train!**"
   ]
  },
  {
   "cell_type": "markdown",
   "metadata": {},
   "source": [
    "GPU/TPUを使いたいとき、勝手にGPUを使う設定になります！\n",
    "\n",
    "**Delete .cuda() or .to() calls** これらは使わない！！\n",
    "\n",
    "なにか新しいTensorを使わないといけないときはこう！！！\n",
    "\n",
    "こうじゃなくて\n",
    "```\n",
    "# before lightning\n",
    "def forward(self, x):\n",
    "    z = torch.Tensor(2, 3)\n",
    "    z = z.cuda(0)\n",
    "```\n",
    "こう！！！\n",
    "```\n",
    "# with lightning\n",
    "def forward(self, x):\n",
    "    z = torch.Tensor(2, 3)\n",
    "    z = z.type_as(x)\n",
    "```"
   ]
  },
  {
   "cell_type": "code",
   "execution_count": 44,
   "metadata": {},
   "outputs": [
    {
     "name": "stderr",
     "output_type": "stream",
     "text": [
      "GPU available: True, used: False\n",
      "TPU available: False, using: 0 TPU cores\n",
      "\n",
      "  | Name    | Type       | Params\n",
      "---------------------------------------\n",
      "0 | encoder | Sequential | 50 K  \n",
      "1 | decoder | Sequential | 51 K  \n"
     ]
    },
    {
     "data": {
      "application/vnd.jupyter.widget-view+json": {
       "model_id": "",
       "version_major": 2,
       "version_minor": 0
      },
      "text/plain": [
       "HBox(children=(HTML(value='Validation sanity check'), FloatProgress(value=1.0, bar_style='info', layout=Layout…"
      ]
     },
     "metadata": {},
     "output_type": "display_data"
    },
    {
     "data": {
      "application/vnd.jupyter.widget-view+json": {
       "model_id": "40ecf45207604943bd7a1d159e5f630a",
       "version_major": 2,
       "version_minor": 0
      },
      "text/plain": [
       "HBox(children=(HTML(value='Training'), FloatProgress(value=1.0, bar_style='info', layout=Layout(flex='2'), max…"
      ]
     },
     "metadata": {},
     "output_type": "display_data"
    },
    {
     "data": {
      "application/vnd.jupyter.widget-view+json": {
       "model_id": "",
       "version_major": 2,
       "version_minor": 0
      },
      "text/plain": [
       "HBox(children=(HTML(value='Validating'), FloatProgress(value=1.0, bar_style='info', layout=Layout(flex='2'), m…"
      ]
     },
     "metadata": {},
     "output_type": "display_data"
    },
    {
     "data": {
      "application/vnd.jupyter.widget-view+json": {
       "model_id": "",
       "version_major": 2,
       "version_minor": 0
      },
      "text/plain": [
       "HBox(children=(HTML(value='Validating'), FloatProgress(value=1.0, bar_style='info', layout=Layout(flex='2'), m…"
      ]
     },
     "metadata": {},
     "output_type": "display_data"
    },
    {
     "data": {
      "application/vnd.jupyter.widget-view+json": {
       "model_id": "",
       "version_major": 2,
       "version_minor": 0
      },
      "text/plain": [
       "HBox(children=(HTML(value='Validating'), FloatProgress(value=1.0, bar_style='info', layout=Layout(flex='2'), m…"
      ]
     },
     "metadata": {},
     "output_type": "display_data"
    },
    {
     "data": {
      "application/vnd.jupyter.widget-view+json": {
       "model_id": "",
       "version_major": 2,
       "version_minor": 0
      },
      "text/plain": [
       "HBox(children=(HTML(value='Validating'), FloatProgress(value=1.0, bar_style='info', layout=Layout(flex='2'), m…"
      ]
     },
     "metadata": {},
     "output_type": "display_data"
    },
    {
     "data": {
      "application/vnd.jupyter.widget-view+json": {
       "model_id": "",
       "version_major": 2,
       "version_minor": 0
      },
      "text/plain": [
       "HBox(children=(HTML(value='Validating'), FloatProgress(value=1.0, bar_style='info', layout=Layout(flex='2'), m…"
      ]
     },
     "metadata": {},
     "output_type": "display_data"
    },
    {
     "data": {
      "application/vnd.jupyter.widget-view+json": {
       "model_id": "",
       "version_major": 2,
       "version_minor": 0
      },
      "text/plain": [
       "HBox(children=(HTML(value='Validating'), FloatProgress(value=1.0, bar_style='info', layout=Layout(flex='2'), m…"
      ]
     },
     "metadata": {},
     "output_type": "display_data"
    },
    {
     "data": {
      "application/vnd.jupyter.widget-view+json": {
       "model_id": "",
       "version_major": 2,
       "version_minor": 0
      },
      "text/plain": [
       "HBox(children=(HTML(value='Validating'), FloatProgress(value=1.0, bar_style='info', layout=Layout(flex='2'), m…"
      ]
     },
     "metadata": {},
     "output_type": "display_data"
    },
    {
     "data": {
      "application/vnd.jupyter.widget-view+json": {
       "model_id": "",
       "version_major": 2,
       "version_minor": 0
      },
      "text/plain": [
       "HBox(children=(HTML(value='Validating'), FloatProgress(value=1.0, bar_style='info', layout=Layout(flex='2'), m…"
      ]
     },
     "metadata": {},
     "output_type": "display_data"
    },
    {
     "data": {
      "application/vnd.jupyter.widget-view+json": {
       "model_id": "",
       "version_major": 2,
       "version_minor": 0
      },
      "text/plain": [
       "HBox(children=(HTML(value='Validating'), FloatProgress(value=1.0, bar_style='info', layout=Layout(flex='2'), m…"
      ]
     },
     "metadata": {},
     "output_type": "display_data"
    },
    {
     "data": {
      "application/vnd.jupyter.widget-view+json": {
       "model_id": "",
       "version_major": 2,
       "version_minor": 0
      },
      "text/plain": [
       "HBox(children=(HTML(value='Validating'), FloatProgress(value=1.0, bar_style='info', layout=Layout(flex='2'), m…"
      ]
     },
     "metadata": {},
     "output_type": "display_data"
    },
    {
     "name": "stdout",
     "output_type": "stream",
     "text": [
      "\n"
     ]
    },
    {
     "data": {
      "text/plain": [
       "1"
      ]
     },
     "execution_count": 44,
     "metadata": {},
     "output_type": "execute_result"
    }
   ],
   "source": [
    "# MNIST 28*28 の手書き文字データセットを使います\n",
    "# この時点でtensor形式に変換しています\n",
    "dataset = MNIST(os.getcwd(), download=True, transform=transforms.ToTensor())\n",
    "# 訓練データと検証データに分けています\n",
    "train, val = random_split(dataset, [55000, 5000])\n",
    "\n",
    "#モデルの呼び出しと初期化\n",
    "autoencoder = LitAutoEncoder()# 学習モデルのインスタンス化\n",
    "#トレーニング開始\n",
    "trainer = pl.Trainer(max_epochs=10, gpus=1)# 学習用のインスタンス化と学習の設定\n",
    "\n",
    "trainer.fit(autoencoder, DataLoader(train), DataLoader(val))# 学習ループ実行\n",
    "# ここでdataLoaderした訓練データと検証データをわたす。"
   ]
  },
  {
   "cell_type": "markdown",
   "metadata": {},
   "source": [
    "GPUやTPUを複数使いたいときはpl.Trainer()の引数に`trainer = Trainer(max_epochs=1, gpus=8)`こんなかんじで渡す。GPU１つしか積んでないときにはgpus=8あたりはあんまり関係ないですね！\n",
    "\n",
    "```\n",
    "# 8 GPUs\n",
    "trainer = Trainer(max_epochs=1, gpus=8)\n",
    "\n",
    "# 256 GPUs\n",
    "trainer = Trainer(max_epochs=1, gpus=8, num_nodes=32)\n",
    "\n",
    "# TPUs\n",
    "trainer = Trainer(tpu_cores=8)\n",
    "```\n",
    "\n",
    "その他引数\n",
    "\n",
    "Trainer引数の代表的なの\n",
    "```\n",
    "引数名\tデフォルトの値\t説明\n",
    "show_progress_bar\tTrue\t学習時の進捗を標準出力\n",
    "max_epochs\t1000\t学習時の最大エポック数\n",
    "min_epochs\t1\t学習時の最小エポック数\n",
    "train_percent_check\t1.0\t学習データに対する確認の比率 (%)\n",
    "val_percent_check\t1.0\t検証データに対する確認の比率 (%)\n",
    "test_percent_check\t1.0\tテストデータに対する確認の比率 (%)\n",
    "early_stop_callback\tFalse\t早期終了の使用の有無\n",
    "gpus\tNone\t使用するGPUの数\n",
    "distributed_backend\tNone\t分散学習の方法\n",
    "```"
   ]
  },
  {
   "cell_type": "markdown",
   "metadata": {},
   "source": [
    "**Step3 : 予測・推論**\n",
    "\n",
    "トレーニングが完了したら、予測に使ってみよう。\n",
    "\n",
    "予測には３つのオプションがあります。\n",
    "\n",
    "1. システム中のモデルを引用してくる\n",
    "1. Forwordメソッドを使う\n",
    "1. Productionメソッドを使う（これが最速！）"
   ]
  },
  {
   "cell_type": "markdown",
   "metadata": {},
   "source": [
    "**方法1：システム中のモデルを引用してくる**\n",
    "\n",
    "lightningで学習を行うと、logの中にcheckpointが保存されるので、これをロードしてくるのが一つの方法"
   ]
  },
  {
   "cell_type": "code",
   "execution_count": 48,
   "metadata": {},
   "outputs": [],
   "source": [
    "import matplotlib.pyplot as plt\n",
    "import numpy as np\n",
    "%matplotlib inline"
   ]
  },
  {
   "cell_type": "code",
   "execution_count": 104,
   "metadata": {},
   "outputs": [
    {
     "data": {
      "text/plain": [
       "<matplotlib.image.AxesImage at 0x28e4bb70550>"
      ]
     },
     "execution_count": 104,
     "metadata": {},
     "output_type": "execute_result"
    },
    {
     "data": {
      "image/png": "[encoded data removed]",
      "text/plain": [
       "<Figure size 432x288 with 1 Axes>"
      ]
     },
     "metadata": {
      "needs_background": "light"
     },
     "output_type": "display_data"
    }
   ],
   "source": [
    "# ----------------------------------\n",
    "# to use as embedding extractor\n",
    "# ----------------------------------\n",
    "autoencoder = LitAutoEncoder.load_from_checkpoint('lightning_logs/version_2/checkpoints/epoch=7.ckpt')\n",
    "encoder_model = autoencoder.encoder\n",
    "encoder_model.eval()# これで推論モードで使える\n",
    "\n",
    "# ----------------------------------\n",
    "# to use as image generator\n",
    "# ----------------------------------\n",
    "decoder_model = autoencoder.decoder\n",
    "decoder_model.eval()# これで推論モードで使える\n",
    "\n",
    "input_sample = torch.randn((1, 3))#なんか適当に入力\n",
    "output = decoder_model(input_sample)\n",
    "output = torch.reshape(output,(28,28))\n",
    "\n",
    "plt.imshow(output.to('cpu').detach().numpy(),cmap=\"binary\")#tensor->numpyして表示"
   ]
  },
  {
   "cell_type": "markdown",
   "metadata": {},
   "source": [
    "**おすすめの方法：学習済みモデルを保存する**\n",
    "\n",
    "２つ方法があって、ひとつはTorchScript(.pt形式)で保存すること"
   ]
  },
  {
   "cell_type": "code",
   "execution_count": 110,
   "metadata": {},
   "outputs": [
    {
     "name": "stdout",
     "output_type": "stream",
     "text": [
      "True\n"
     ]
    },
    {
     "data": {
      "text/plain": [
       "<matplotlib.image.AxesImage at 0x28e4bd72240>"
      ]
     },
     "execution_count": 110,
     "metadata": {},
     "output_type": "execute_result"
    },
    {
     "data": {
      "image/png": "[encoded data removed]",
      "text/plain": [
       "<Figure size 432x288 with 1 Axes>"
      ]
     },
     "metadata": {
      "needs_background": "light"
     },
     "output_type": "display_data"
    }
   ],
   "source": [
    "# ----------------------------------\n",
    "# torchscript GPU ver\n",
    "# ----------------------------------\n",
    "autoencoder = LitAutoEncoder()\n",
    "torch.save(autoencoder, \"GPUmodel.pt\")\n",
    "print(os.path.isfile(\"GPUmodel.pt\")) # ファイルの存在を確認する\n",
    "\n",
    "torch.load(\"GPUmodel.pt\")\n",
    "\n",
    "decoder_model.eval()# これで推論モードで使える\n",
    "\n",
    "input_sample = torch.randn((1, 3))#なんか適当に入力\n",
    "output = decoder_model(input_sample)\n",
    "output = torch.reshape(output,(28,28))\n",
    "\n",
    "plt.imshow(output.to('cpu').detach().numpy(),cmap=\"binary\")#tensor->numpyして表示"
   ]
  },
  {
   "cell_type": "code",
   "execution_count": 108,
   "metadata": {},
   "outputs": [
    {
     "data": {
      "text/plain": [
       "<matplotlib.image.AxesImage at 0x28e4bd01fd0>"
      ]
     },
     "execution_count": 108,
     "metadata": {},
     "output_type": "execute_result"
    },
    {
     "data": {
      "image/png": "[encoded data removed]",
      "text/plain": [
       "<Figure size 432x288 with 1 Axes>"
      ]
     },
     "metadata": {
      "needs_background": "light"
     },
     "output_type": "display_data"
    }
   ],
   "source": [
    "# ----------------------------------\n",
    "# torchscript CPU ver\n",
    "# ----------------------------------\n",
    "autoencoder = LitAutoEncoder()\n",
    "torch.jit.save(autoencoder.to('cpu').to_torchscript(), \"CPUmodel.pt\")#tensor->numpyしてsave\n",
    "os.path.isfile(\"CPUmodel.pt\") # ファイルの存在を確認する\n",
    "\n",
    "# Loading\n",
    "cpumodel = torch.jit.load(\"CPUmodel.pt\")\n",
    "\n",
    "# ----------------------------------\n",
    "# to use as image generator\n",
    "# ----------------------------------\n",
    "decoder_model = cpumodel.decoder\n",
    "decoder_model.eval()# これで推論モードで使える\n",
    "\n",
    "input_sample = torch.randn((1, 3))#なんか適当に入力\n",
    "output = decoder_model(input_sample)\n",
    "output = torch.reshape(output,(28,28))\n",
    "\n",
    "plt.imshow(output.to('cpu').detach().numpy())#tensor->numpyして表示"
   ]
  },
  {
   "cell_type": "code",
   "execution_count": null,
   "metadata": {},
   "outputs": [],
   "source": []
  }
 ],
 "metadata": {
  "kernelspec": {
   "display_name": "Python 3",
   "language": "python",
   "name": "python3"
  },
  "language_info": {
   "codemirror_mode": {
    "name": "ipython",
    "version": 3
   },
   "file_extension": ".py",
   "mimetype": "text/x-python",
   "name": "python",
   "nbconvert_exporter": "python",
   "pygments_lexer": "ipython3",
   "version": "3.7.3"
  }
 },
 "nbformat": 4,
 "nbformat_minor": 2
}
