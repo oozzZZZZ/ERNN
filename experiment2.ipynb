{
 "cells": [
  {
   "cell_type": "code",
   "execution_count": 9,
   "metadata": {},
   "outputs": [],
   "source": [
    "import librosa\n",
    "\n",
    "from IPython.display import display, Audio\n",
    "import glob\n",
    "from tqdm.notebook import tqdm\n",
    "import random\n",
    "import math\n",
    "\n",
    "# !pip install pyroomacoustics\n",
    "import pyroomacoustics as pa\n",
    "import pandas as pd\n",
    "\n",
    "# from scipy.signal import stft,istft,convolve\n",
    "import scipy as sp\n",
    "import numpy as np\n",
    "\n",
    "import matplotlib.pyplot as plt\n",
    "\n",
    "import torch\n",
    "import torch.nn as nn\n",
    "import torch.optim as optim\n",
    "import torch.utils.data as data\n",
    "import torch.nn.functional as F\n",
    "from torch.autograd import Variable\n",
    "%matplotlib inline"
   ]
  },
  {
   "cell_type": "code",
   "execution_count": 67,
   "metadata": {},
   "outputs": [
    {
     "name": "stdout",
     "output_type": "stream",
     "text": [
      "clear voice is 15603 files\n",
      "Urban Noise is 8732 files\n"
     ]
    }
   ],
   "source": [
    "c_files = glob.glob(\"/disk107/Datasets/CMU_ARCTIC/*/*wav/*.wav\")\n",
    "n_files = glob.glob(\"/disk107/Datasets/UrbanSound8K/audio/fold*/*.wav\")\n",
    "\n",
    "print(\"clear voice is\",len(c_files),\"files\")\n",
    "print(\"Urban Noise is\",len(n_files),\"files\")\n",
    "\n",
    "audio_len = 2**15\n",
    "usedata_num = 15600\n",
    "sample_rate = 16000\n",
    "\n",
    "#stft\n",
    "fftLen = 2**9 # とりあえず\n",
    "win = np.hamming(hann_window) # ハミング窓\n",
    "DFT_size = 512\n",
    "step = 2**8"
   ]
  },
  {
   "cell_type": "code",
   "execution_count": 71,
   "metadata": {},
   "outputs": [],
   "source": [
    "def stft(x, win, step):\n",
    "    l = len(x) # 入力信号の長さ\n",
    "    N = len(win) # 窓幅、つまり切り出す幅\n",
    "    M = int(np.ceil(float(l - N + step) / step)) # スペクトログラムの時間フレーム数\n",
    "    \n",
    "    new_x = np.zeros(N + ((M - 1) * step),dtype=\"float64\")\n",
    "    new_x[: l] = x # 信号をいい感じの長さにする\n",
    "    \n",
    "    X = np.zeros([M, N], dtype = \"complex64\") # スペクトログラムの初期化(複素数型)\n",
    "    for m in range(M):\n",
    "        start = step * m\n",
    "        X[m, :] = sp.fft.fft(new_x[start : start + N] * win)\n",
    "    return X\n",
    "\n",
    "def istft(X, win, step):\n",
    "    M, N = X.shape\n",
    "    assert (len(win) == N), \"FFT length and window length are different.\"\n",
    "\n",
    "    l = (M - 1) * step + N\n",
    "    x = np.zeros(l,dtype=\"float64\")\n",
    "    wsum = np.zeros(l,dtype=\"float64\")\n",
    "    for m in range(M):\n",
    "        start = step * m\n",
    "        ### 滑らかな接続\n",
    "        x[start : start + N] = x[start : start + N] + sp.fft.ifft(X[m, :]).real * win\n",
    "        wsum[start : start + N] += win ** 2 \n",
    "    pos = (wsum != 0)\n",
    "    x_pre = x.copy()\n",
    "    ### 窓分のスケール合わせ\n",
    "    x[pos] /= wsum[pos]\n",
    "    return x"
   ]
  },
  {
   "cell_type": "code",
   "execution_count": 72,
   "metadata": {},
   "outputs": [],
   "source": [
    "c_data,_ = librosa.load(str(c_files[0]),sr=sample_rate)\n",
    "\n",
    "if len(c_data)<audio_len:\n",
    "    _c_data = np.zeros([audio_len])\n",
    "    _c_data[:len(c_data)] = c_data\n",
    "    c_data = _c_data\n",
    "\n",
    "else:\n",
    "    c_data = c_data[:audio_len]"
   ]
  },
  {
   "cell_type": "code",
   "execution_count": 73,
   "metadata": {},
   "outputs": [
    {
     "name": "stdout",
     "output_type": "stream",
     "text": [
      "(127, 512)\n"
     ]
    }
   ],
   "source": [
    "stft_label= stft(c_data,win,step)\n",
    "\n",
    "print(stft_label.shape)"
   ]
  },
  {
   "cell_type": "code",
   "execution_count": 12,
   "metadata": {},
   "outputs": [
    {
     "data": {
      "text/plain": [
       "128.0"
      ]
     },
     "execution_count": 12,
     "metadata": {},
     "output_type": "execute_result"
    }
   ],
   "source": [
    "2**15 /(2**8)"
   ]
  },
  {
   "cell_type": "markdown",
   "metadata": {},
   "source": [
    "# PACK SEQUENCE"
   ]
  },
  {
   "cell_type": "code",
   "execution_count": 28,
   "metadata": {},
   "outputs": [],
   "source": [
    "from torch.nn.utils.rnn import pack_sequence\n",
    "import torch"
   ]
  },
  {
   "cell_type": "code",
   "execution_count": 24,
   "metadata": {},
   "outputs": [],
   "source": [
    "datasets_dir = \"/disk107/yamamoto/datasets.npz\"\n",
    "datasets = np.load(datasets_dir)\n",
    "data = datasets['arr_0']\n",
    "label = datasets['arr_1']"
   ]
  },
  {
   "cell_type": "code",
   "execution_count": 30,
   "metadata": {},
   "outputs": [
    {
     "name": "stdout",
     "output_type": "stream",
     "text": [
      "(100, 127, 512)\n"
     ]
    }
   ],
   "source": [
    "practice_d = data[:100]\n",
    "practice_l = label[:100]\n",
    "print(practice_d.shape)"
   ]
  },
  {
   "cell_type": "code",
   "execution_count": 41,
   "metadata": {},
   "outputs": [
    {
     "data": {
      "application/vnd.jupyter.widget-view+json": {
       "model_id": "e6e81bb358b44648aae3e36ac3c28acc",
       "version_major": 2,
       "version_minor": 0
      },
      "text/plain": [
       "HBox(children=(HTML(value=''), FloatProgress(value=0.0), HTML(value='')))"
      ]
     },
     "metadata": {},
     "output_type": "display_data"
    },
    {
     "name": "stdout",
     "output_type": "stream",
     "text": [
      "\n"
     ]
    }
   ],
   "source": [
    "for l in tqdm(range(practice_d.shape[0])):\n",
    "    pack = [torch.tensor(practice_d[l,:,i]) for i in range(practice_d.shape[2])]\n",
    "    rnn_pack = pack_sequence(pack)\n",
    "    \n",
    "\n",
    "\n",
    "\n",
    "\n",
    "\n",
    "# # 1次元配列変換\n",
    "# _d = np.array([practice_d[i].reshape(-1,) for i in tqdm(range(len(practice_d)))])\n",
    "# _l = np.array([practice_l[i].reshape(-1,) for i in tqdm(range(len(practice_l)))])"
   ]
  },
  {
   "cell_type": "code",
   "execution_count": 42,
   "metadata": {},
   "outputs": [
    {
     "data": {
      "text/plain": [
       "PackedSequence(data=tensor([ -9.7434,   8.9392,  -4.5208,  ...,   0.0800, -11.6202,  18.1241],\n",
       "       dtype=torch.float64), batch_sizes=tensor([512, 512, 512, 512, 512, 512, 512, 512, 512, 512, 512, 512, 512, 512,\n",
       "        512, 512, 512, 512, 512, 512, 512, 512, 512, 512, 512, 512, 512, 512,\n",
       "        512, 512, 512, 512, 512, 512, 512, 512, 512, 512, 512, 512, 512, 512,\n",
       "        512, 512, 512, 512, 512, 512, 512, 512, 512, 512, 512, 512, 512, 512,\n",
       "        512, 512, 512, 512, 512, 512, 512, 512, 512, 512, 512, 512, 512, 512,\n",
       "        512, 512, 512, 512, 512, 512, 512, 512, 512, 512, 512, 512, 512, 512,\n",
       "        512, 512, 512, 512, 512, 512, 512, 512, 512, 512, 512, 512, 512, 512,\n",
       "        512, 512, 512, 512, 512, 512, 512, 512, 512, 512, 512, 512, 512, 512,\n",
       "        512, 512, 512, 512, 512, 512, 512, 512, 512, 512, 512, 512, 512, 512,\n",
       "        512]), sorted_indices=None, unsorted_indices=None)"
      ]
     },
     "execution_count": 42,
     "metadata": {},
     "output_type": "execute_result"
    }
   ],
   "source": [
    "rnn_pack"
   ]
  },
  {
   "cell_type": "code",
   "execution_count": 51,
   "metadata": {},
   "outputs": [
    {
     "ename": "AttributeError",
     "evalue": "'PackedSequence' object has no attribute 'size'",
     "output_type": "error",
     "traceback": [
      "\u001b[0;31m---------------------------------------------------------------------------\u001b[0m",
      "\u001b[0;31mAttributeError\u001b[0m                            Traceback (most recent call last)",
      "\u001b[0;32m<ipython-input-51-00139bf4a8f1>\u001b[0m in \u001b[0;36m<module>\u001b[0;34m\u001b[0m\n\u001b[0;32m----> 1\u001b[0;31m \u001b[0mrnn_pack\u001b[0m\u001b[0;34m.\u001b[0m\u001b[0msize\u001b[0m\u001b[0;34m\u001b[0m\u001b[0;34m\u001b[0m\u001b[0m\n\u001b[0m",
      "\u001b[0;31mAttributeError\u001b[0m: 'PackedSequence' object has no attribute 'size'"
     ]
    }
   ],
   "source": []
  },
  {
   "cell_type": "code",
   "execution_count": 59,
   "metadata": {},
   "outputs": [
    {
     "ename": "TypeError",
     "evalue": "new() received an invalid combination of arguments - got (tuple, tuple), but expected one of:\n * (*, torch.device device)\n      didn't match because some of the arguments have invalid types: (!tuple!, !tuple!)\n * (torch.Storage storage)\n * (Tensor other)\n * (tuple of ints size, *, torch.device device)\n * (object data, *, torch.device device)\n",
     "output_type": "error",
     "traceback": [
      "\u001b[0;31m---------------------------------------------------------------------------\u001b[0m",
      "\u001b[0;31mTypeError\u001b[0m                                 Traceback (most recent call last)",
      "\u001b[0;32m<ipython-input-59-a25c64f89e59>\u001b[0m in \u001b[0;36m<module>\u001b[0;34m\u001b[0m\n\u001b[1;32m      5\u001b[0m \u001b[0moutput_size\u001b[0m \u001b[0;34m=\u001b[0m \u001b[0;36m512\u001b[0m\u001b[0;34m\u001b[0m\u001b[0;34m\u001b[0m\u001b[0m\n\u001b[1;32m      6\u001b[0m \u001b[0;34m\u001b[0m\u001b[0m\n\u001b[0;32m----> 7\u001b[0;31m \u001b[0m_lstm\u001b[0m \u001b[0;34m=\u001b[0m \u001b[0mnn\u001b[0m\u001b[0;34m.\u001b[0m\u001b[0mLSTM\u001b[0m\u001b[0;34m(\u001b[0m\u001b[0;34m(\u001b[0m\u001b[0;36m1\u001b[0m\u001b[0;34m,\u001b[0m\u001b[0;36m512\u001b[0m\u001b[0;34m)\u001b[0m\u001b[0;34m,\u001b[0m\u001b[0;34m(\u001b[0m\u001b[0;36m1\u001b[0m\u001b[0;34m,\u001b[0m\u001b[0;36m512\u001b[0m\u001b[0;34m)\u001b[0m\u001b[0;34m)\u001b[0m\u001b[0;34m\u001b[0m\u001b[0;34m\u001b[0m\u001b[0m\n\u001b[0m",
      "\u001b[0;32m~/.local/lib/python3.7/site-packages/torch/nn/modules/rnn.py\u001b[0m in \u001b[0;36m__init__\u001b[0;34m(self, *args, **kwargs)\u001b[0m\n\u001b[1;32m    525\u001b[0m \u001b[0;34m\u001b[0m\u001b[0m\n\u001b[1;32m    526\u001b[0m     \u001b[0;32mdef\u001b[0m \u001b[0m__init__\u001b[0m\u001b[0;34m(\u001b[0m\u001b[0mself\u001b[0m\u001b[0;34m,\u001b[0m \u001b[0;34m*\u001b[0m\u001b[0margs\u001b[0m\u001b[0;34m,\u001b[0m \u001b[0;34m**\u001b[0m\u001b[0mkwargs\u001b[0m\u001b[0;34m)\u001b[0m\u001b[0;34m:\u001b[0m\u001b[0;34m\u001b[0m\u001b[0;34m\u001b[0m\u001b[0m\n\u001b[0;32m--> 527\u001b[0;31m         \u001b[0msuper\u001b[0m\u001b[0;34m(\u001b[0m\u001b[0mLSTM\u001b[0m\u001b[0;34m,\u001b[0m \u001b[0mself\u001b[0m\u001b[0;34m)\u001b[0m\u001b[0;34m.\u001b[0m\u001b[0m__init__\u001b[0m\u001b[0;34m(\u001b[0m\u001b[0;34m'LSTM'\u001b[0m\u001b[0;34m,\u001b[0m \u001b[0;34m*\u001b[0m\u001b[0margs\u001b[0m\u001b[0;34m,\u001b[0m \u001b[0;34m**\u001b[0m\u001b[0mkwargs\u001b[0m\u001b[0;34m)\u001b[0m\u001b[0;34m\u001b[0m\u001b[0;34m\u001b[0m\u001b[0m\n\u001b[0m\u001b[1;32m    528\u001b[0m \u001b[0;34m\u001b[0m\u001b[0m\n\u001b[1;32m    529\u001b[0m     \u001b[0;32mdef\u001b[0m \u001b[0mcheck_forward_args\u001b[0m\u001b[0;34m(\u001b[0m\u001b[0mself\u001b[0m\u001b[0;34m,\u001b[0m \u001b[0minput\u001b[0m\u001b[0;34m:\u001b[0m \u001b[0mTensor\u001b[0m\u001b[0;34m,\u001b[0m \u001b[0mhidden\u001b[0m\u001b[0;34m:\u001b[0m \u001b[0mTuple\u001b[0m\u001b[0;34m[\u001b[0m\u001b[0mTensor\u001b[0m\u001b[0;34m,\u001b[0m \u001b[0mTensor\u001b[0m\u001b[0;34m]\u001b[0m\u001b[0;34m,\u001b[0m \u001b[0mbatch_sizes\u001b[0m\u001b[0;34m:\u001b[0m \u001b[0mOptional\u001b[0m\u001b[0;34m[\u001b[0m\u001b[0mTensor\u001b[0m\u001b[0;34m]\u001b[0m\u001b[0;34m)\u001b[0m\u001b[0;34m:\u001b[0m\u001b[0;34m\u001b[0m\u001b[0;34m\u001b[0m\u001b[0m\n",
      "\u001b[0;32m~/.local/lib/python3.7/site-packages/torch/nn/modules/rnn.py\u001b[0m in \u001b[0;36m__init__\u001b[0;34m(self, mode, input_size, hidden_size, num_layers, bias, batch_first, dropout, bidirectional)\u001b[0m\n\u001b[1;32m     78\u001b[0m                 \u001b[0mlayer_input_size\u001b[0m \u001b[0;34m=\u001b[0m \u001b[0minput_size\u001b[0m \u001b[0;32mif\u001b[0m \u001b[0mlayer\u001b[0m \u001b[0;34m==\u001b[0m \u001b[0;36m0\u001b[0m \u001b[0;32melse\u001b[0m \u001b[0mhidden_size\u001b[0m \u001b[0;34m*\u001b[0m \u001b[0mnum_directions\u001b[0m\u001b[0;34m\u001b[0m\u001b[0;34m\u001b[0m\u001b[0m\n\u001b[1;32m     79\u001b[0m \u001b[0;34m\u001b[0m\u001b[0m\n\u001b[0;32m---> 80\u001b[0;31m                 \u001b[0mw_ih\u001b[0m \u001b[0;34m=\u001b[0m \u001b[0mParameter\u001b[0m\u001b[0;34m(\u001b[0m\u001b[0mtorch\u001b[0m\u001b[0;34m.\u001b[0m\u001b[0mTensor\u001b[0m\u001b[0;34m(\u001b[0m\u001b[0mgate_size\u001b[0m\u001b[0;34m,\u001b[0m \u001b[0mlayer_input_size\u001b[0m\u001b[0;34m)\u001b[0m\u001b[0;34m)\u001b[0m\u001b[0;34m\u001b[0m\u001b[0;34m\u001b[0m\u001b[0m\n\u001b[0m\u001b[1;32m     81\u001b[0m                 \u001b[0mw_hh\u001b[0m \u001b[0;34m=\u001b[0m \u001b[0mParameter\u001b[0m\u001b[0;34m(\u001b[0m\u001b[0mtorch\u001b[0m\u001b[0;34m.\u001b[0m\u001b[0mTensor\u001b[0m\u001b[0;34m(\u001b[0m\u001b[0mgate_size\u001b[0m\u001b[0;34m,\u001b[0m \u001b[0mhidden_size\u001b[0m\u001b[0;34m)\u001b[0m\u001b[0;34m)\u001b[0m\u001b[0;34m\u001b[0m\u001b[0;34m\u001b[0m\u001b[0m\n\u001b[1;32m     82\u001b[0m                 \u001b[0mb_ih\u001b[0m \u001b[0;34m=\u001b[0m \u001b[0mParameter\u001b[0m\u001b[0;34m(\u001b[0m\u001b[0mtorch\u001b[0m\u001b[0;34m.\u001b[0m\u001b[0mTensor\u001b[0m\u001b[0;34m(\u001b[0m\u001b[0mgate_size\u001b[0m\u001b[0;34m)\u001b[0m\u001b[0;34m)\u001b[0m\u001b[0;34m\u001b[0m\u001b[0;34m\u001b[0m\u001b[0m\n",
      "\u001b[0;31mTypeError\u001b[0m: new() received an invalid combination of arguments - got (tuple, tuple), but expected one of:\n * (*, torch.device device)\n      didn't match because some of the arguments have invalid types: (!tuple!, !tuple!)\n * (torch.Storage storage)\n * (Tensor other)\n * (tuple of ints size, *, torch.device device)\n * (object data, *, torch.device device)\n"
     ]
    }
   ],
   "source": [
    "from torch import nn\n",
    "\n",
    "input_size = 512\n",
    "hidden_size = 512\n",
    "output_size = 512\n",
    "\n",
    "_lstm = nn.LSTM((1,512),(1,512))"
   ]
  },
  {
   "cell_type": "code",
   "execution_count": 57,
   "metadata": {},
   "outputs": [
    {
     "ename": "RuntimeError",
     "evalue": "input must have 2 dimensions, got 1",
     "output_type": "error",
     "traceback": [
      "\u001b[0;31m---------------------------------------------------------------------------\u001b[0m",
      "\u001b[0;31mRuntimeError\u001b[0m                              Traceback (most recent call last)",
      "\u001b[0;32m<ipython-input-57-aec79eb79e3a>\u001b[0m in \u001b[0;36m<module>\u001b[0;34m\u001b[0m\n\u001b[0;32m----> 1\u001b[0;31m \u001b[0mlstm\u001b[0m \u001b[0;34m=\u001b[0m \u001b[0m_lstm\u001b[0m\u001b[0;34m(\u001b[0m\u001b[0mrnn_pack\u001b[0m\u001b[0;34m)\u001b[0m\u001b[0;34m\u001b[0m\u001b[0;34m\u001b[0m\u001b[0m\n\u001b[0m",
      "\u001b[0;32m~/.local/lib/python3.7/site-packages/torch/nn/modules/module.py\u001b[0m in \u001b[0;36m_call_impl\u001b[0;34m(self, *input, **kwargs)\u001b[0m\n\u001b[1;32m    725\u001b[0m             \u001b[0mresult\u001b[0m \u001b[0;34m=\u001b[0m \u001b[0mself\u001b[0m\u001b[0;34m.\u001b[0m\u001b[0m_slow_forward\u001b[0m\u001b[0;34m(\u001b[0m\u001b[0;34m*\u001b[0m\u001b[0minput\u001b[0m\u001b[0;34m,\u001b[0m \u001b[0;34m**\u001b[0m\u001b[0mkwargs\u001b[0m\u001b[0;34m)\u001b[0m\u001b[0;34m\u001b[0m\u001b[0;34m\u001b[0m\u001b[0m\n\u001b[1;32m    726\u001b[0m         \u001b[0;32melse\u001b[0m\u001b[0;34m:\u001b[0m\u001b[0;34m\u001b[0m\u001b[0;34m\u001b[0m\u001b[0m\n\u001b[0;32m--> 727\u001b[0;31m             \u001b[0mresult\u001b[0m \u001b[0;34m=\u001b[0m \u001b[0mself\u001b[0m\u001b[0;34m.\u001b[0m\u001b[0mforward\u001b[0m\u001b[0;34m(\u001b[0m\u001b[0;34m*\u001b[0m\u001b[0minput\u001b[0m\u001b[0;34m,\u001b[0m \u001b[0;34m**\u001b[0m\u001b[0mkwargs\u001b[0m\u001b[0;34m)\u001b[0m\u001b[0;34m\u001b[0m\u001b[0;34m\u001b[0m\u001b[0m\n\u001b[0m\u001b[1;32m    728\u001b[0m         for hook in itertools.chain(\n\u001b[1;32m    729\u001b[0m                 \u001b[0m_global_forward_hooks\u001b[0m\u001b[0;34m.\u001b[0m\u001b[0mvalues\u001b[0m\u001b[0;34m(\u001b[0m\u001b[0;34m)\u001b[0m\u001b[0;34m,\u001b[0m\u001b[0;34m\u001b[0m\u001b[0;34m\u001b[0m\u001b[0m\n",
      "\u001b[0;32m~/.local/lib/python3.7/site-packages/torch/nn/modules/rnn.py\u001b[0m in \u001b[0;36mforward\u001b[0;34m(self, input, hx)\u001b[0m\n\u001b[1;32m    577\u001b[0m             \u001b[0mhx\u001b[0m \u001b[0;34m=\u001b[0m \u001b[0mself\u001b[0m\u001b[0;34m.\u001b[0m\u001b[0mpermute_hidden\u001b[0m\u001b[0;34m(\u001b[0m\u001b[0mhx\u001b[0m\u001b[0;34m,\u001b[0m \u001b[0msorted_indices\u001b[0m\u001b[0;34m)\u001b[0m\u001b[0;34m\u001b[0m\u001b[0;34m\u001b[0m\u001b[0m\n\u001b[1;32m    578\u001b[0m \u001b[0;34m\u001b[0m\u001b[0m\n\u001b[0;32m--> 579\u001b[0;31m         \u001b[0mself\u001b[0m\u001b[0;34m.\u001b[0m\u001b[0mcheck_forward_args\u001b[0m\u001b[0;34m(\u001b[0m\u001b[0minput\u001b[0m\u001b[0;34m,\u001b[0m \u001b[0mhx\u001b[0m\u001b[0;34m,\u001b[0m \u001b[0mbatch_sizes\u001b[0m\u001b[0;34m)\u001b[0m\u001b[0;34m\u001b[0m\u001b[0;34m\u001b[0m\u001b[0m\n\u001b[0m\u001b[1;32m    580\u001b[0m         \u001b[0;32mif\u001b[0m \u001b[0mbatch_sizes\u001b[0m \u001b[0;32mis\u001b[0m \u001b[0;32mNone\u001b[0m\u001b[0;34m:\u001b[0m\u001b[0;34m\u001b[0m\u001b[0;34m\u001b[0m\u001b[0m\n\u001b[1;32m    581\u001b[0m             result = _VF.lstm(input, hx, self._flat_weights, self.bias, self.num_layers,\n",
      "\u001b[0;32m~/.local/lib/python3.7/site-packages/torch/nn/modules/rnn.py\u001b[0m in \u001b[0;36mcheck_forward_args\u001b[0;34m(self, input, hidden, batch_sizes)\u001b[0m\n\u001b[1;32m    528\u001b[0m \u001b[0;34m\u001b[0m\u001b[0m\n\u001b[1;32m    529\u001b[0m     \u001b[0;32mdef\u001b[0m \u001b[0mcheck_forward_args\u001b[0m\u001b[0;34m(\u001b[0m\u001b[0mself\u001b[0m\u001b[0;34m,\u001b[0m \u001b[0minput\u001b[0m\u001b[0;34m:\u001b[0m \u001b[0mTensor\u001b[0m\u001b[0;34m,\u001b[0m \u001b[0mhidden\u001b[0m\u001b[0;34m:\u001b[0m \u001b[0mTuple\u001b[0m\u001b[0;34m[\u001b[0m\u001b[0mTensor\u001b[0m\u001b[0;34m,\u001b[0m \u001b[0mTensor\u001b[0m\u001b[0;34m]\u001b[0m\u001b[0;34m,\u001b[0m \u001b[0mbatch_sizes\u001b[0m\u001b[0;34m:\u001b[0m \u001b[0mOptional\u001b[0m\u001b[0;34m[\u001b[0m\u001b[0mTensor\u001b[0m\u001b[0;34m]\u001b[0m\u001b[0;34m)\u001b[0m\u001b[0;34m:\u001b[0m\u001b[0;34m\u001b[0m\u001b[0;34m\u001b[0m\u001b[0m\n\u001b[0;32m--> 530\u001b[0;31m         \u001b[0mself\u001b[0m\u001b[0;34m.\u001b[0m\u001b[0mcheck_input\u001b[0m\u001b[0;34m(\u001b[0m\u001b[0minput\u001b[0m\u001b[0;34m,\u001b[0m \u001b[0mbatch_sizes\u001b[0m\u001b[0;34m)\u001b[0m\u001b[0;34m\u001b[0m\u001b[0;34m\u001b[0m\u001b[0m\n\u001b[0m\u001b[1;32m    531\u001b[0m         \u001b[0mexpected_hidden_size\u001b[0m \u001b[0;34m=\u001b[0m \u001b[0mself\u001b[0m\u001b[0;34m.\u001b[0m\u001b[0mget_expected_hidden_size\u001b[0m\u001b[0;34m(\u001b[0m\u001b[0minput\u001b[0m\u001b[0;34m,\u001b[0m \u001b[0mbatch_sizes\u001b[0m\u001b[0;34m)\u001b[0m\u001b[0;34m\u001b[0m\u001b[0;34m\u001b[0m\u001b[0m\n\u001b[1;32m    532\u001b[0m \u001b[0;34m\u001b[0m\u001b[0m\n",
      "\u001b[0;32m~/.local/lib/python3.7/site-packages/torch/nn/modules/rnn.py\u001b[0m in \u001b[0;36mcheck_input\u001b[0;34m(self, input, batch_sizes)\u001b[0m\n\u001b[1;32m    174\u001b[0m             raise RuntimeError(\n\u001b[1;32m    175\u001b[0m                 'input must have {} dimensions, got {}'.format(\n\u001b[0;32m--> 176\u001b[0;31m                     expected_input_dim, input.dim()))\n\u001b[0m\u001b[1;32m    177\u001b[0m         \u001b[0;32mif\u001b[0m \u001b[0mself\u001b[0m\u001b[0;34m.\u001b[0m\u001b[0minput_size\u001b[0m \u001b[0;34m!=\u001b[0m \u001b[0minput\u001b[0m\u001b[0;34m.\u001b[0m\u001b[0msize\u001b[0m\u001b[0;34m(\u001b[0m\u001b[0;34m-\u001b[0m\u001b[0;36m1\u001b[0m\u001b[0;34m)\u001b[0m\u001b[0;34m:\u001b[0m\u001b[0;34m\u001b[0m\u001b[0;34m\u001b[0m\u001b[0m\n\u001b[1;32m    178\u001b[0m             raise RuntimeError(\n",
      "\u001b[0;31mRuntimeError\u001b[0m: input must have 2 dimensions, got 1"
     ]
    }
   ],
   "source": [
    "lstm = _lstm(rnn_pack)"
   ]
  },
  {
   "cell_type": "code",
   "execution_count": 45,
   "metadata": {},
   "outputs": [
    {
     "ename": "AttributeError",
     "evalue": "'PackedSequence' object has no attribute 'view'",
     "output_type": "error",
     "traceback": [
      "\u001b[0;31m---------------------------------------------------------------------------\u001b[0m",
      "\u001b[0;31mAttributeError\u001b[0m                            Traceback (most recent call last)",
      "\u001b[0;32m<ipython-input-45-e944f050cbd3>\u001b[0m in \u001b[0;36m<module>\u001b[0;34m\u001b[0m\n\u001b[0;32m----> 1\u001b[0;31m \u001b[0mrnn_pack\u001b[0m\u001b[0;34m.\u001b[0m\u001b[0mview\u001b[0m\u001b[0;34m(\u001b[0m\u001b[0mseq_len\u001b[0m\u001b[0;34m,\u001b[0m \u001b[0mbatch\u001b[0m\u001b[0;34m,\u001b[0m \u001b[0mnum_directions\u001b[0m\u001b[0;34m,\u001b[0m \u001b[0mhidden_size\u001b[0m\u001b[0;34m)\u001b[0m\u001b[0;34m\u001b[0m\u001b[0;34m\u001b[0m\u001b[0m\n\u001b[0m",
      "\u001b[0;31mAttributeError\u001b[0m: 'PackedSequence' object has no attribute 'view'"
     ]
    }
   ],
   "source": [
    "_lstm.view(seq_len, batch, num_directions, hidden_size)"
   ]
  },
  {
   "cell_type": "code",
   "execution_count": null,
   "metadata": {},
   "outputs": [],
   "source": [
    "# 1次元配列変換\n",
    "_d = np.array([practice_d[i].reshape(-1,) for i in tqdm(range(len(practice_d)))])\n",
    "_l = np.array([practice_l[i].reshape(-1,) for i in tqdm(range(len(practice_l)))])\n",
    "\n",
    "transform = transforms.Compose([\n",
    "    transforms.ToTensor(), \n",
    "#     transforms.Lambda(lambda x: x.view(-1))\n",
    "])\n",
    "\n",
    "class MyDataset(torch.utils.data.Dataset):\n",
    "\n",
    "    def __init__(self, data, label, transform=None):\n",
    "        self.transform = transform\n",
    "        self.data = data\n",
    "        self.data_num = len(data)\n",
    "        self.label = label\n",
    "\n",
    "    def __len__(self):\n",
    "        return self.data_num\n",
    "\n",
    "    def __getitem__(self, idx):\n",
    "        if self.transform:\n",
    "          out_data = self.transform(self.data)[0][idx]\n",
    "          out_label = self.label[idx]\n",
    "        else:\n",
    "          out_data = self.data[idx]\n",
    "          out_label =  self.label[idx]\n",
    "\n",
    "        return out_data, out_label"
   ]
  },
  {
   "cell_type": "markdown",
   "metadata": {},
   "source": [
    "# RNNの例\n",
    "[参考](https://nbviewer.jupyter.org/gist/cocomoff/e0d415d0d89e793b0f84a3a13f47e604#%E3%83%86%E3%82%B9%E3%83%88)"
   ]
  },
  {
   "cell_type": "code",
   "execution_count": 3,
   "metadata": {},
   "outputs": [],
   "source": [
    "np.random.seed(0)\n",
    "\n",
    "test_data_num = 100\n",
    "min_length = 2\n",
    "max_length = 100\n",
    "fixed_length = 100\n",
    "min_num = 0\n",
    "max_num = 3"
   ]
  },
  {
   "cell_type": "markdown",
   "metadata": {},
   "source": [
    "## データ作成\n",
    "\n",
    "**train data**\n",
    "\n",
    "1. 長さ100のデータを2000個つくる\n",
    "1. 配列ごとにリストに格納し、tensorに\n",
    "\n",
    "**label data**\n",
    "\n",
    "1. それぞれのデータにたいして出力は１\n",
    "\n",
    "**データセット化**\n",
    "\n",
    "`datasets = torch.utils.data.TensorDataset(X_train, y_train)`\n",
    "\n",
    "**データローダー**\n",
    "\n",
    "バッチサイズ100ごとに分ける"
   ]
  },
  {
   "cell_type": "code",
   "execution_count": 7,
   "metadata": {},
   "outputs": [],
   "source": [
    "#データの長さは最短２、最長１００。足りない分は０埋めして長さを１００にそろえる。\n",
    "min_length = 2\n",
    "max_length = 100\n",
    "# 配列の最小値０、最大値は３の配列を作る\n",
    "min_num = 0\n",
    "max_num = 3\n",
    "# ラベルは配列の総和として、これを推測するモデルを学習する\n",
    "\n",
    "\n",
    "def generate_data(n):\n",
    "    x_data = []\n",
    "    y_data = []\n",
    "    for i in range(n):\n",
    "        length = np.random.randint(min_length, max_length + 1)\n",
    "        dt = np.zeros(fixed_length)\n",
    "        dt[:length] = np.random.randint(min_num, max_num + 1, size=length)\n",
    "        x_data.append(list(dt))\n",
    "        y_data.append(sum(dt))\n",
    "    \n",
    "    # for PyTorch\n",
    "    x_data = torch.from_numpy(np.array(x_data)).float()\n",
    "    y_data = torch.from_numpy(np.array(y_data)).float().view(-1, 1)\n",
    "    return x_data, y_data"
   ]
  },
  {
   "cell_type": "markdown",
   "metadata": {},
   "source": [
    "**viewについてのメモ** [参考](https://qiita.com/kenta1984/items/d68b72214ce92beebbe2#view)\n",
    "* １つ目の引数に-1を入れることで、２つ目の引数で指定した値にサイズ数を自動的に調整してくれます。\n",
    "* Tensorの要素数が指定したサイズ数に合わない（割り切れない）場合、エラーになります。\n",
    "* もちろん、サイズ数を指定することもできます。 ` view(3,4)`"
   ]
  },
  {
   "cell_type": "code",
   "execution_count": 10,
   "metadata": {},
   "outputs": [],
   "source": [
    "data_num = 2000\n",
    "\n",
    "X_train, y_train = generate_data(data_num)\n",
    "train = data.TensorDataset(X_train, y_train)\n",
    "train_loader = data.DataLoader(train, batch_size=100, shuffle=True)"
   ]
  },
  {
   "cell_type": "code",
   "execution_count": 27,
   "metadata": {},
   "outputs": [
    {
     "name": "stdout",
     "output_type": "stream",
     "text": [
      "torch.Size([2000, 100])\n",
      "tensor([1., 0., 1., 1., 1., 0., 0., 0., 1., 1., 3., 2., 1., 0., 3., 1., 1., 2.,\n",
      "        2., 1., 3., 1., 1., 2., 2., 0., 2., 1., 2., 3., 0., 0., 0., 3., 3., 1.,\n",
      "        3., 2., 0., 3., 2., 3., 3., 0., 2., 0., 1., 1., 2., 0., 2., 0., 3., 1.,\n",
      "        0., 1., 0., 1., 0., 1., 1., 2., 2., 1., 0., 3., 2., 0., 3., 3., 3., 0.,\n",
      "        0., 1., 2., 0., 3., 1., 1., 3., 3., 2., 1., 2., 0., 0., 0., 0., 0., 0.,\n",
      "        0., 0., 0., 0., 0., 0., 0., 0., 0., 0.])\n",
      "torch.Size([2000, 1])\n",
      "tensor([116.])\n",
      "2000\n",
      "20\n"
     ]
    }
   ],
   "source": [
    "print(X_train.shape)\n",
    "print(X_train[0])\n",
    "\n",
    "print(y_train.shape)\n",
    "print(y_train[0])\n",
    "\n",
    "print(len(train))\n",
    "\n",
    "print(len(train_loader))"
   ]
  },
  {
   "cell_type": "markdown",
   "metadata": {},
   "source": [
    "## 予測器\n",
    "\n",
    "`batch_first = True`にすると`(seq_len, batch, input_size)`と指定されている入力テンソルの型を`(batch, seq_len, input_size)`にできる\n",
    "\n",
    "* ある1つの列が対象なので，seq_len=1とする\n",
    "* そのためテンソルの型をunsqueeze/squeezeでマニュアル通りに揃える\n",
    "* (補足): 実はseq_lenとinput_dimの使い方が間違っている気もする（正しい使い方が分かる人教えて）\n",
    "* 出力outputは(batch, seq_len, num_directions * hidden_size)と指定されているが，双方向ではないためnum_directions=1となる\n",
    "* 出力hpは(num_layers * num_directions, batch, hidden_size)と指定されているが，層を積まないのかつ単方向なため，(1, batch, hidden_size)という型で返る\n"
   ]
  },
  {
   "cell_type": "markdown",
   "metadata": {},
   "source": [
    "`nn.RNN`と`nn.LSTM`はそのまま置き換え可能"
   ]
  },
  {
   "cell_type": "code",
   "execution_count": 36,
   "metadata": {},
   "outputs": [],
   "source": [
    "class Predictor(nn.Module):\n",
    "    def __init__(self, n_input, n_hidden, n_output):\n",
    "        super(Predictor, self).__init__()\n",
    "        self.rnn = nn.LSTM(n_input, n_hidden, num_layers=1, batch_first=True)\n",
    "        self.out = nn.Linear(n_hidden, n_output)\n",
    "        \n",
    "    def forward(self, x, h=None):\n",
    "        output, hp = self.rnn(x.unsqueeze(1), h)\n",
    "        output = self.out(output.squeeze(1))\n",
    "        return output, hp"
   ]
  },
  {
   "cell_type": "markdown",
   "metadata": {},
   "source": [
    "こんかい音声でつかいたいときは、入力512、`num_layers=127`でやればいい気がする"
   ]
  },
  {
   "cell_type": "code",
   "execution_count": 37,
   "metadata": {},
   "outputs": [],
   "source": [
    "model = Predictor(fixed_length, 64, 1) #入力特徴量100, 隠れ層64, 出力層1\n",
    "criterion = nn.MSELoss()\n",
    "optimizer = optim.SGD(model.parameters(), lr=0.005)"
   ]
  },
  {
   "cell_type": "code",
   "execution_count": 38,
   "metadata": {},
   "outputs": [
    {
     "data": {
      "application/vnd.jupyter.widget-view+json": {
       "model_id": "790a07e4713d4762bd0e4ec4a6a58e44",
       "version_major": 2,
       "version_minor": 0
      },
      "text/plain": [
       "HBox(children=(HTML(value=''), FloatProgress(value=0.0), HTML(value='')))"
      ]
     },
     "metadata": {},
     "output_type": "display_data"
    },
    {
     "name": "stdout",
     "output_type": "stream",
     "text": [
      "\n"
     ]
    }
   ],
   "source": [
    "n_epoch = 100\n",
    "lloss = []\n",
    "for epoch in tqdm(range(n_epoch)):\n",
    "    running_loss = 0.0\n",
    "    for i, data in enumerate(train_loader):\n",
    "        bX, by = data\n",
    "        bX, by = Variable(bX), Variable(by)\n",
    "        optimizer.zero_grad()\n",
    "        output, _ = model(bX)\n",
    "        loss = criterion(output, by)\n",
    "        loss.backward()\n",
    "        optimizer.step()\n",
    "        \n",
    "        running_loss += loss.data.item()\n",
    "        \n",
    "    lloss.append(running_loss)"
   ]
  },
  {
   "cell_type": "code",
   "execution_count": 39,
   "metadata": {},
   "outputs": [
    {
     "data": {
      "text/plain": [
       "[<matplotlib.lines.Line2D at 0x108a87f0be0>]"
      ]
     },
     "execution_count": 39,
     "metadata": {},
     "output_type": "execute_result"
    },
    {
     "data": {
      "image/png": "[encoded data removed]",
      "text/plain": [
       "<Figure size 432x288 with 1 Axes>"
      ]
     },
     "metadata": {
      "needs_background": "light"
     },
     "output_type": "display_data"
    }
   ],
   "source": [
    "plt.plot(lloss[:20], 'ro--')"
   ]
  },
  {
   "cell_type": "code",
   "execution_count": 40,
   "metadata": {},
   "outputs": [
    {
     "data": {
      "text/plain": [
       "[<matplotlib.lines.Line2D at 0x108a8836278>]"
      ]
     },
     "execution_count": 40,
     "metadata": {},
     "output_type": "execute_result"
    },
    {
     "data": {
      "image/png": "[encoded data removed]",
      "text/plain": [
       "<Figure size 432x288 with 1 Axes>"
      ]
     },
     "metadata": {
      "needs_background": "light"
     },
     "output_type": "display_data"
    }
   ],
   "source": [
    "plt.plot(lloss[1:100], \"ro--\")"
   ]
  },
  {
   "cell_type": "markdown",
   "metadata": {},
   "source": [
    "## テスト"
   ]
  },
  {
   "cell_type": "code",
   "execution_count": 41,
   "metadata": {},
   "outputs": [
    {
     "name": "stdout",
     "output_type": "stream",
     "text": [
      "367.7651436328888\n"
     ]
    }
   ],
   "source": [
    "ldiff = []\n",
    "num_test = 100\n",
    "X_test, y_test = generate_data(num_test)\n",
    "\n",
    "for i in range(num_test):\n",
    "    y_pred, _ = model(X_test[i].unsqueeze(0))\n",
    "    diff = np.abs(X_test[i].sum().data.item() - y_pred.data.item())\n",
    "    ldiff.append(diff)\n",
    "ldiff = np.array(ldiff)\n",
    "print(ldiff.sum())"
   ]
  },
  {
   "cell_type": "markdown",
   "metadata": {},
   "source": [
    "# 画像でLSTM\n",
    "[参考](https://note.com/okonomiyaki011/n/nc79ce0563b0d)"
   ]
  },
  {
   "cell_type": "code",
   "execution_count": 1,
   "metadata": {},
   "outputs": [],
   "source": [
    "import numpy as np\n",
    "from keras.utils import np_utils\n",
    "from keras.datasets import fashion_mnist"
   ]
  },
  {
   "cell_type": "code",
   "execution_count": 2,
   "metadata": {},
   "outputs": [],
   "source": [
    "# !pip install tensorflow"
   ]
  },
  {
   "cell_type": "markdown",
   "metadata": {},
   "source": [
    "## データの前処理\n",
    "\n",
    "**画像を時系列データとして扱うとは？**\n",
    "\n",
    "ポイント\n",
    "* イメージとして画像を上からスキャンしていくような感じ。これにより、各行28ピクセルの時系列データとして、時間が進むにつれ、下に1ピクセルづつ降りていくような感じ。これにより28x28で構成された画像を時系列データとして扱うことができる。\n",
    "\n",
    "* なお「Keras」では、今回使用するデータセットを読み込みと(画像の数, 画像の行, 画像の列)の3次元配列として読み込まれるので、入力層の形状を下のよに定義すれば、1枚の画像につき、28時刻の時系列データとして読み込ませることができる。↓\n",
    "\n",
    "`model.add(InputLayer(input_shape=(28, 28)))`"
   ]
  },
  {
   "cell_type": "code",
   "execution_count": 3,
   "metadata": {},
   "outputs": [
    {
     "name": "stdout",
     "output_type": "stream",
     "text": [
      "(60000, 28, 28)\n",
      "(60000, 28, 28)\n",
      "(60000, 28, 28)\n",
      "(60000, 28, 28)\n"
     ]
    }
   ],
   "source": [
    "(x_train, y_train), (x_test, y_test) = fashion_mnist.load_data()\n",
    "\n",
    "# 時系列データとして扱えるようにする\n",
    "x_train = np.reshape(x_train, (-1, 28, 28))\n",
    "x_train = x_train.astype('float32')\n",
    "x_train = x_train / 255\n",
    "\n",
    "# 正解ラベル\n",
    "correct = 10\n",
    "y_train = np_utils.to_categorical(y_train, correct)\n",
    "\n",
    "\n",
    "# 時系列データとして扱えるようにする\n",
    "x_test = np.reshape(x_test, (-1, 28, 28))\n",
    "x_test = x_test.astype('float32')\n",
    "x_test = x_test / 255\n",
    "y_test = np_utils.to_categorical(y_test, correct)"
   ]
  },
  {
   "cell_type": "markdown",
   "metadata": {},
   "source": [
    "* LSTMでは128のLSTMセルを配置し、これを3段に重ねた3層構造にしている。なお各ブロックでのドロップアウト率は0.25としている。「return_sequences」はLSTMの出力を階層でやり取りするかどうかを指定するための引数。"
   ]
  },
  {
   "cell_type": "code",
   "execution_count": 4,
   "metadata": {},
   "outputs": [
    {
     "name": "stdout",
     "output_type": "stream",
     "text": [
      "Model: \"sequential\"\n",
      "_________________________________________________________________\n",
      "Layer (type)                 Output Shape              Param #   \n",
      "=================================================================\n",
      "lstm (LSTM)                  (None, 28, 128)           80384     \n",
      "_________________________________________________________________\n",
      "lstm_1 (LSTM)                (None, 28, 128)           131584    \n",
      "_________________________________________________________________\n",
      "lstm_2 (LSTM)                (None, 128)               131584    \n",
      "_________________________________________________________________\n",
      "dense (Dense)                (None, 10)                1290      \n",
      "=================================================================\n",
      "Total params: 344,842\n",
      "Trainable params: 344,842\n",
      "Non-trainable params: 0\n",
      "_________________________________________________________________\n"
     ]
    }
   ],
   "source": [
    "# 使用するモジュールのインポート\n",
    "from keras.models import Sequential\n",
    "from keras.layers import InputLayer, Dense\n",
    "from keras.layers.recurrent import LSTM\n",
    "from keras import optimizers,regularizers\n",
    "\n",
    "# Sequentialオブジェクトを生成\n",
    "model = Sequential()\n",
    "\n",
    "model.add(\n",
    "   InputLayer(input_shape=(28,28))#入口の設定\n",
    "   )\n",
    "\n",
    "\n",
    "weight_decay = 1e-4\n",
    "model.add(LSTM(units=128, dropout=0.25, return_sequences=True))\n",
    "model.add(LSTM(units=128, dropout=0.25, return_sequences=True))\n",
    "model.add(LSTM(units=128, dropout=0.25, return_sequences=False,\n",
    "              kernel_regularizer=regularizers.l2(weight_decay))\n",
    ")\n",
    "\n",
    "model.add(\n",
    "   Dense(units=10,\n",
    "         activation='softmax')\n",
    "   )\n",
    "\n",
    "\n",
    "model.compile(\n",
    "   loss='categorical_crossentropy',\n",
    "   optimizer=optimizers.Adam(),    \n",
    "   metrics=['accuracy']            \n",
    "   )\n",
    "\n",
    "model.summary()"
   ]
  },
  {
   "cell_type": "code",
   "execution_count": 7,
   "metadata": {},
   "outputs": [
    {
     "name": "stdout",
     "output_type": "stream",
     "text": [
      "Epoch 1/50\n",
      "600/600 [==============================] - 36s 60ms/step - loss: 0.6874 - accuracy: 0.7473 - val_loss: 0.5105 - val_accuracy: 0.8157\n",
      "Epoch 2/50\n",
      "600/600 [==============================] - 36s 60ms/step - loss: 0.4841 - accuracy: 0.8225 - val_loss: 0.4503 - val_accuracy: 0.8404\n",
      "Epoch 3/50\n",
      "600/600 [==============================] - 36s 60ms/step - loss: 0.4271 - accuracy: 0.8435 - val_loss: 0.3971 - val_accuracy: 0.8567\n",
      "Epoch 4/50\n",
      "600/600 [==============================] - 37s 61ms/step - loss: 0.3986 - accuracy: 0.8540 - val_loss: 0.3885 - val_accuracy: 0.8582\n",
      "Epoch 5/50\n",
      "600/600 [==============================] - 36s 61ms/step - loss: 0.3786 - accuracy: 0.8615 - val_loss: 0.3734 - val_accuracy: 0.8643\n",
      "Epoch 6/50\n",
      "600/600 [==============================] - 36s 61ms/step - loss: 0.3609 - accuracy: 0.8676 - val_loss: 0.3524 - val_accuracy: 0.8698\n",
      "Epoch 7/50\n",
      "600/600 [==============================] - 36s 61ms/step - loss: 0.3474 - accuracy: 0.8728 - val_loss: 0.3626 - val_accuracy: 0.8651\n",
      "Epoch 8/50\n",
      "600/600 [==============================] - 36s 61ms/step - loss: 0.3350 - accuracy: 0.8783 - val_loss: 0.3301 - val_accuracy: 0.8798\n",
      "Epoch 9/50\n",
      "600/600 [==============================] - 36s 60ms/step - loss: 0.3238 - accuracy: 0.8820 - val_loss: 0.3327 - val_accuracy: 0.8799\n",
      "Epoch 10/50\n",
      "600/600 [==============================] - 36s 61ms/step - loss: 0.3188 - accuracy: 0.8837 - val_loss: 0.3281 - val_accuracy: 0.8812\n",
      "Epoch 11/50\n",
      "600/600 [==============================] - 37s 61ms/step - loss: 0.3096 - accuracy: 0.8876 - val_loss: 0.3261 - val_accuracy: 0.8828\n",
      "Epoch 12/50\n",
      "600/600 [==============================] - 37s 62ms/step - loss: 0.3019 - accuracy: 0.8901 - val_loss: 0.3184 - val_accuracy: 0.8833\n",
      "Epoch 13/50\n",
      "600/600 [==============================] - 37s 62ms/step - loss: 0.2951 - accuracy: 0.8926 - val_loss: 0.3110 - val_accuracy: 0.8883\n",
      "Epoch 14/50\n",
      "600/600 [==============================] - 37s 62ms/step - loss: 0.2889 - accuracy: 0.8935 - val_loss: 0.3029 - val_accuracy: 0.8906\n",
      "Epoch 15/50\n",
      "600/600 [==============================] - 37s 62ms/step - loss: 0.2834 - accuracy: 0.8964 - val_loss: 0.2967 - val_accuracy: 0.8948\n",
      "Epoch 16/50\n",
      "600/600 [==============================] - 37s 62ms/step - loss: 0.2784 - accuracy: 0.8974 - val_loss: 0.2916 - val_accuracy: 0.8985\n",
      "Epoch 17/50\n",
      "600/600 [==============================] - 37s 62ms/step - loss: 0.2771 - accuracy: 0.8983 - val_loss: 0.2967 - val_accuracy: 0.8941\n",
      "Epoch 18/50\n",
      "600/600 [==============================] - 37s 62ms/step - loss: 0.2692 - accuracy: 0.9008 - val_loss: 0.2996 - val_accuracy: 0.8916\n",
      "Epoch 19/50\n",
      "600/600 [==============================] - 37s 62ms/step - loss: 0.2647 - accuracy: 0.9031 - val_loss: 0.2898 - val_accuracy: 0.8951\n",
      "Epoch 20/50\n",
      "600/600 [==============================] - 37s 62ms/step - loss: 0.2637 - accuracy: 0.9035 - val_loss: 0.2921 - val_accuracy: 0.8957\n",
      "Epoch 21/50\n",
      "600/600 [==============================] - 37s 62ms/step - loss: 0.2593 - accuracy: 0.9053 - val_loss: 0.2774 - val_accuracy: 0.9015\n",
      "Epoch 22/50\n",
      "600/600 [==============================] - 37s 62ms/step - loss: 0.2560 - accuracy: 0.9065 - val_loss: 0.2839 - val_accuracy: 0.8980\n",
      "Epoch 23/50\n",
      "600/600 [==============================] - 37s 62ms/step - loss: 0.2505 - accuracy: 0.9082 - val_loss: 0.2890 - val_accuracy: 0.9002\n",
      "Epoch 24/50\n",
      "600/600 [==============================] - 37s 62ms/step - loss: 0.2498 - accuracy: 0.9091 - val_loss: 0.2808 - val_accuracy: 0.9010\n",
      "Epoch 25/50\n",
      "600/600 [==============================] - 37s 62ms/step - loss: 0.2471 - accuracy: 0.9101 - val_loss: 0.2779 - val_accuracy: 0.9024\n",
      "Epoch 26/50\n",
      "600/600 [==============================] - 37s 62ms/step - loss: 0.2423 - accuracy: 0.9111 - val_loss: 0.2767 - val_accuracy: 0.9035\n",
      "Epoch 27/50\n",
      "600/600 [==============================] - 37s 61ms/step - loss: 0.2394 - accuracy: 0.9117 - val_loss: 0.2779 - val_accuracy: 0.9028\n",
      "Epoch 28/50\n",
      "600/600 [==============================] - 37s 62ms/step - loss: 0.2383 - accuracy: 0.9120 - val_loss: 0.2773 - val_accuracy: 0.9019\n",
      "Epoch 29/50\n",
      "600/600 [==============================] - 37s 61ms/step - loss: 0.2335 - accuracy: 0.9142 - val_loss: 0.2772 - val_accuracy: 0.9012\n",
      "Epoch 30/50\n",
      "600/600 [==============================] - 37s 61ms/step - loss: 0.2305 - accuracy: 0.9163 - val_loss: 0.2856 - val_accuracy: 0.8998\n",
      "Epoch 31/50\n",
      "600/600 [==============================] - 37s 61ms/step - loss: 0.2299 - accuracy: 0.9165 - val_loss: 0.2796 - val_accuracy: 0.9018\n",
      "Epoch 32/50\n",
      "600/600 [==============================] - 37s 61ms/step - loss: 0.2264 - accuracy: 0.9182 - val_loss: 0.2770 - val_accuracy: 0.9036\n",
      "Epoch 33/50\n",
      "600/600 [==============================] - 37s 61ms/step - loss: 0.2251 - accuracy: 0.9179 - val_loss: 0.2841 - val_accuracy: 0.9043\n",
      "Epoch 34/50\n",
      "600/600 [==============================] - 37s 61ms/step - loss: 0.2215 - accuracy: 0.9203 - val_loss: 0.2736 - val_accuracy: 0.9048\n",
      "Epoch 35/50\n",
      "600/600 [==============================] - 37s 61ms/step - loss: 0.2194 - accuracy: 0.9193 - val_loss: 0.2693 - val_accuracy: 0.9073\n",
      "Epoch 36/50\n",
      "600/600 [==============================] - 37s 61ms/step - loss: 0.2182 - accuracy: 0.9211 - val_loss: 0.2822 - val_accuracy: 0.9034\n",
      "Epoch 37/50\n",
      "600/600 [==============================] - 37s 61ms/step - loss: 0.2159 - accuracy: 0.9213 - val_loss: 0.2792 - val_accuracy: 0.9055\n",
      "Epoch 38/50\n",
      "600/600 [==============================] - 37s 61ms/step - loss: 0.2134 - accuracy: 0.9230 - val_loss: 0.2778 - val_accuracy: 0.9071\n",
      "Epoch 39/50\n",
      "600/600 [==============================] - 37s 61ms/step - loss: 0.2104 - accuracy: 0.9233 - val_loss: 0.2860 - val_accuracy: 0.9051\n",
      "Epoch 40/50\n",
      "600/600 [==============================] - 37s 61ms/step - loss: 0.2122 - accuracy: 0.9235 - val_loss: 0.2768 - val_accuracy: 0.9037\n",
      "Epoch 41/50\n",
      "600/600 [==============================] - 37s 62ms/step - loss: 0.2098 - accuracy: 0.9244 - val_loss: 0.2784 - val_accuracy: 0.9082\n",
      "Epoch 42/50\n",
      "600/600 [==============================] - 37s 61ms/step - loss: 0.2061 - accuracy: 0.9249 - val_loss: 0.2868 - val_accuracy: 0.9057\n",
      "Epoch 43/50\n",
      "600/600 [==============================] - 37s 61ms/step - loss: 0.2043 - accuracy: 0.9265 - val_loss: 0.2764 - val_accuracy: 0.9093\n",
      "Epoch 44/50\n",
      "600/600 [==============================] - 37s 61ms/step - loss: 0.2019 - accuracy: 0.9268 - val_loss: 0.2771 - val_accuracy: 0.9098\n",
      "Epoch 45/50\n",
      "600/600 [==============================] - 37s 61ms/step - loss: 0.2023 - accuracy: 0.9263 - val_loss: 0.2729 - val_accuracy: 0.9103\n",
      "Epoch 46/50\n",
      "600/600 [==============================] - 37s 61ms/step - loss: 0.1987 - accuracy: 0.9277 - val_loss: 0.2767 - val_accuracy: 0.9095\n",
      "Epoch 47/50\n",
      "600/600 [==============================] - 37s 61ms/step - loss: 0.1998 - accuracy: 0.9269 - val_loss: 0.2786 - val_accuracy: 0.9103\n",
      "Epoch 48/50\n",
      "600/600 [==============================] - 37s 61ms/step - loss: 0.1962 - accuracy: 0.9290 - val_loss: 0.2745 - val_accuracy: 0.9072\n",
      "Epoch 49/50\n",
      "600/600 [==============================] - 36s 61ms/step - loss: 0.1947 - accuracy: 0.9297 - val_loss: 0.2757 - val_accuracy: 0.9083\n",
      "Epoch 50/50\n",
      "600/600 [==============================] - 37s 61ms/step - loss: 0.1918 - accuracy: 0.9304 - val_loss: 0.2897 - val_accuracy: 0.9057\n"
     ]
    }
   ],
   "source": [
    "history = model.fit(x_train, y_train, \n",
    "                   batch_size=100, epochs=50,\n",
    "                   verbose=1,          \n",
    "                   validation_data=(   \n",
    "                   x_test, y_test))"
   ]
  },
  {
   "cell_type": "code",
   "execution_count": 15,
   "metadata": {},
   "outputs": [
    {
     "data": {
      "image/png": "[encoded data removed]",
      "text/plain": [
       "<Figure size 432x288 with 1 Axes>"
      ]
     },
     "metadata": {
      "needs_background": "light"
     },
     "output_type": "display_data"
    }
   ],
   "source": [
    "import matplotlib.pyplot as plt\n",
    "\n",
    "# Plot training & validation loss values\n",
    "plt.plot(history.history['loss'], \"ro--\")\n",
    "plt.plot(history.history['val_loss'], \"bo--\")\n",
    "plt.title('Model loss')\n",
    "plt.ylabel('Loss')\n",
    "plt.xlabel('Epoch')\n",
    "plt.legend(['Train', 'Test'], loc='upper left')\n",
    "plt.show()"
   ]
  },
  {
   "cell_type": "code",
   "execution_count": null,
   "metadata": {},
   "outputs": [],
   "source": []
  }
 ],
 "metadata": {
  "kernelspec": {
   "display_name": "Python 3",
   "language": "python",
   "name": "python3"
  },
  "language_info": {
   "codemirror_mode": {
    "name": "ipython",
    "version": 3
   },
   "file_extension": ".py",
   "mimetype": "text/x-python",
   "name": "python",
   "nbconvert_exporter": "python",
   "pygments_lexer": "ipython3",
   "version": "3.7.3"
  }
 },
 "nbformat": 4,
 "nbformat_minor": 4
}
