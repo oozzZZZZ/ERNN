{
  "nbformat": 4,
  "nbformat_minor": 0,
  "metadata": {
    "colab": {
      "name": "ENNN.ipynb",
      "provenance": []
    },
    "kernelspec": {
      "name": "python3",
      "display_name": "Python 3"
    }
  },
  "cells": [
    {
      "cell_type": "code",
      "metadata": {
        "id": "JKmo1hdt4fmA",
        "outputId": "a357a729-ebe5-40b9-b375-34c863598eda",
        "colab": {
          "base_uri": "https://localhost:8080/"
        }
      },
      "source": [
        "import librosa\n",
        "\n",
        "from IPython.display import display, Audio\n",
        "import glob\n",
        "from tqdm import tqdm\n",
        "import random\n",
        "import math\n",
        "\n",
        "!pip install pyroomacoustics\n",
        "import pyroomacoustics as pa\n",
        "import pandas as pd\n",
        "\n",
        "from scipy.signal import stft,istft,convolve\n",
        "import scipy\n",
        "import numpy as np"
      ],
      "execution_count": null,
      "outputs": [
        {
          "output_type": "stream",
          "text": [
            "Collecting pyroomacoustics\n",
            "\u001b[?25l  Downloading https://files.pythonhosted.org/packages/4d/49/73e2d8fba52663bf8c1eaf70867cc0e70b8aef0cd3232b86117777af1ca8/pyroomacoustics-0.4.2.tar.gz (1.1MB)\n",
            "\u001b[K     |████████████████████████████████| 1.1MB 3.3MB/s \n",
            "\u001b[?25h  Installing build dependencies ... \u001b[?25l\u001b[?25hdone\n",
            "  Getting requirements to build wheel ... \u001b[?25l\u001b[?25hdone\n",
            "    Preparing wheel metadata ... \u001b[?25l\u001b[?25hdone\n",
            "Requirement already satisfied: scipy>=0.18.0 in /usr/local/lib/python3.6/dist-packages (from pyroomacoustics) (1.4.1)\n",
            "Requirement already satisfied: numpy in /usr/local/lib/python3.6/dist-packages (from pyroomacoustics) (1.18.5)\n",
            "Requirement already satisfied: Cython in /usr/local/lib/python3.6/dist-packages (from pyroomacoustics) (0.29.21)\n",
            "Collecting pybind11>=2.2\n",
            "  Using cached https://files.pythonhosted.org/packages/92/a5/796ccb611a92cbdf1f6eaa9b2ec9458d5784a7b909efdf8e8afaa3861783/pybind11-2.6.0-py2.py3-none-any.whl\n",
            "Building wheels for collected packages: pyroomacoustics\n",
            "  Building wheel for pyroomacoustics (PEP 517) ... \u001b[?25l\u001b[?25hdone\n",
            "  Created wheel for pyroomacoustics: filename=pyroomacoustics-0.4.2-cp36-cp36m-linux_x86_64.whl size=9532844 sha256=281275247a2f3d13220812e5cdf3bd2858ea8d700d3f0244d3e02d286f428119\n",
            "  Stored in directory: /root/.cache/pip/wheels/a8/36/c1/e2c6c0c9a018975e20f7c4694ee1d19f768ac7b3aba168231a\n",
            "Successfully built pyroomacoustics\n",
            "Installing collected packages: pybind11, pyroomacoustics\n",
            "Successfully installed pybind11-2.6.0 pyroomacoustics-0.4.2\n"
          ],
          "name": "stdout"
        }
      ]
    },
    {
      "cell_type": "markdown",
      "metadata": {
        "id": "qH8hv4bQ4yXB"
      },
      "source": [
        "# Datasets\n",
        "音声　CMU Arctic Corpus\n",
        "\n",
        "```\n",
        "# CMU Arctic Corpusのダウンロード(初回のみ)\n",
        "pa.datasets.CMUArcticCorpus(basedir=\"./CMU_ARCTIC\" ,download=True)\n",
        "```\n",
        "雑音 Ernie, UrbanSound8K\n",
        "```\n",
        "# n_files1 = glob.glob(noise1+\"/disk107/Datasets/noise/ernieNoise/trim_wavs/*wav\")#ernie\n",
        "# n_files2 = glob.glob(noise2+\"/disk107/Datasets/UrbanSound8K/audio/fold*/*.wav\")#urban\n",
        "```"
      ]
    },
    {
      "cell_type": "markdown",
      "metadata": {
        "id": "YY8pwIIj5ni5"
      },
      "source": [
        "# データセットの作成"
      ]
    },
    {
      "cell_type": "code",
      "metadata": {
        "id": "00Y5JGbu5mRw"
      },
      "source": [
        "def addnoise(c_data,n_data,SNR = 0.1):\n",
        "    \"\"\"\n",
        "    c_data:音声データ\n",
        "    n_data:ノイズデータ\n",
        "    \n",
        "    クリーンな音声データに任意の雑音をつけます。\n",
        "    \n",
        "    音声データの長さがノイズデータの長さより長い時→ノイズデータをリピートして音声データの長さに合わせる\n",
        "    音声データの長さがノイズデータの長さより短い時→ノイズデータを音声な音声データの長さに合わせて切り捨て\n",
        "    \"\"\"\n",
        "\n",
        "    c_data_s = c_data * SNR #ernieノイズの音量が小さいので調整してます。\n",
        "\n",
        "    if len(c_data) == len(n_data):\n",
        "        noise_data = c_data_s + n_data\n",
        "\n",
        "    elif len(c_data) > len(n_data):\n",
        "\n",
        "        q, mod = divmod(len(c_data), len(n_data))\n",
        "\n",
        "        if q == 1:\n",
        "            new = np.append(n_data,n_data[:mod])\n",
        "\n",
        "        else:\n",
        "            new = np.append(n_data,n_data)\n",
        "            for i in range(q-2):\n",
        "                new = np.append(new,n_data)\n",
        "            new = np.append(new,n_data[:mod])\n",
        "\n",
        "        noise_data = c_data_s + new\n",
        "\n",
        "    else:\n",
        "        noise_data = c_data_s + n_data[:len(c_data)]\n",
        "        \n",
        "    return noise_data"
      ],
      "execution_count": null,
      "outputs": []
    },
    {
      "cell_type": "code",
      "metadata": {
        "id": "dQCfs-5O4m0m"
      },
      "source": [
        "# clean：CMU Arctic Copus内のwavファイル\n",
        "c_files = glob.glob(\"CMU_ARCTIC/*/wav/*.wav\")\n",
        "random.shuffle(c_files)\n",
        "\n",
        "# noise\n",
        "n_files1 = glob.glob(noise1+\"/disk107/Datasets/noise/ernieNoise/trim_wavs/*wav\")#ernie\n",
        "n_files2 = glob.glob(noise2+\"/disk107/Datasets/UrbanSound8K/audio/fold*/*.wav\")#urban\n",
        "n_files = np.append(n_files1,n_files2)#合体\n",
        "random.shuffle(n_files)\n",
        "\n",
        "clean = []\n",
        "noise = []\n",
        "\n",
        "for n in tqdm(len(c_files)):\n",
        "    # noise\n",
        "    c_data, fs = librosa.load(c_files[n],sr=16000)\n",
        "    n_data, fs = librosa.load(n_files[n],sr=16000)\n",
        "    \n",
        "    noise_data = addnoise(c_data,n_data,SNR = 0.7)\n",
        "    \n",
        "    clean.append(c_data)\n",
        "    noise.append(noise_data)"
      ],
      "execution_count": null,
      "outputs": []
    },
    {
      "cell_type": "code",
      "metadata": {
        "id": "I58WwUJC50a1"
      },
      "source": [
        "np.save('dataset', clean)\n",
        "np.save('dataset', noise)"
      ],
      "execution_count": null,
      "outputs": []
    }
  ]
}