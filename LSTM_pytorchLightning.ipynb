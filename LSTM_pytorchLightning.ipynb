{
 "cells": [
  {
   "cell_type": "markdown",
   "metadata": {},
   "source": [
    "# LSTM PyTorch Lightning"
   ]
  },
  {
   "cell_type": "code",
   "execution_count": 1,
   "metadata": {
    "scrolled": true
   },
   "outputs": [
    {
     "name": "stderr",
     "output_type": "stream",
     "text": [
      "In C:\\Users\\zankyo\\Anaconda3\\lib\\site-packages\\matplotlib\\mpl-data\\stylelib\\_classic_test.mplstyle: \n",
      "The text.latex.preview rcparam was deprecated in Matplotlib 3.3 and will be removed two minor releases later.\n",
      "In C:\\Users\\zankyo\\Anaconda3\\lib\\site-packages\\matplotlib\\mpl-data\\stylelib\\_classic_test.mplstyle: \n",
      "The mathtext.fallback_to_cm rcparam was deprecated in Matplotlib 3.3 and will be removed two minor releases later.\n",
      "In C:\\Users\\zankyo\\Anaconda3\\lib\\site-packages\\matplotlib\\mpl-data\\stylelib\\_classic_test.mplstyle: Support for setting the 'mathtext.fallback_to_cm' rcParam is deprecated since 3.3 and will be removed two minor releases later; use 'mathtext.fallback : 'cm' instead.\n",
      "In C:\\Users\\zankyo\\Anaconda3\\lib\\site-packages\\matplotlib\\mpl-data\\stylelib\\_classic_test.mplstyle: \n",
      "The validate_bool_maybe_none function was deprecated in Matplotlib 3.3 and will be removed two minor releases later.\n",
      "In C:\\Users\\zankyo\\Anaconda3\\lib\\site-packages\\matplotlib\\mpl-data\\stylelib\\_classic_test.mplstyle: \n",
      "The savefig.jpeg_quality rcparam was deprecated in Matplotlib 3.3 and will be removed two minor releases later.\n",
      "In C:\\Users\\zankyo\\Anaconda3\\lib\\site-packages\\matplotlib\\mpl-data\\stylelib\\_classic_test.mplstyle: \n",
      "The keymap.all_axes rcparam was deprecated in Matplotlib 3.3 and will be removed two minor releases later.\n",
      "In C:\\Users\\zankyo\\Anaconda3\\lib\\site-packages\\matplotlib\\mpl-data\\stylelib\\_classic_test.mplstyle: \n",
      "The animation.avconv_path rcparam was deprecated in Matplotlib 3.3 and will be removed two minor releases later.\n",
      "In C:\\Users\\zankyo\\Anaconda3\\lib\\site-packages\\matplotlib\\mpl-data\\stylelib\\_classic_test.mplstyle: \n",
      "The animation.avconv_args rcparam was deprecated in Matplotlib 3.3 and will be removed two minor releases later.\n"
     ]
    }
   ],
   "source": [
    "import numpy as np\n",
    "import datetime\n",
    "now = datetime.datetime.now()\n",
    "\n",
    "import torch\n",
    "import torch.nn as nn\n",
    "import torch.nn.functional as F\n",
    "import torch.utils.data as utils\n",
    "import torch.optim as optim\n",
    "from torchvision import datasets, transforms\n",
    "\n",
    "import matplotlib.pyplot as plt\n",
    "from tqdm.notebook import tqdm"
   ]
  },
  {
   "cell_type": "code",
   "execution_count": 2,
   "metadata": {},
   "outputs": [],
   "source": [
    "import pytorch_lightning as pl"
   ]
  },
  {
   "cell_type": "markdown",
   "metadata": {},
   "source": [
    "PyTorch Lightningに関するエラーについて<br>\n",
    "`pip install --ignore-installed --upgrade tensorflow-gpu==1.15.0`\n",
    "https://github.com/tensorflow/tensorflow/issues/35208"
   ]
  },
  {
   "cell_type": "code",
   "execution_count": 3,
   "metadata": {},
   "outputs": [
    {
     "name": "stdout",
     "output_type": "stream",
     "text": [
      "使用デバイス: cuda\n",
      "C:/Users/zankyo/Desktop/yamamoto/model/lstm20201116_212038\n"
     ]
    },
    {
     "data": {
      "application/vnd.jupyter.widget-view+json": {
       "model_id": "c5e23d1785334b9ea00ffa6789155368",
       "version_major": 2,
       "version_minor": 0
      },
      "text/plain": [
       "HBox(children=(HTML(value=''), FloatProgress(value=0.0, max=15000.0), HTML(value='')))"
      ]
     },
     "metadata": {},
     "output_type": "display_data"
    },
    {
     "name": "stdout",
     "output_type": "stream",
     "text": [
      "\n"
     ]
    },
    {
     "data": {
      "application/vnd.jupyter.widget-view+json": {
       "model_id": "ea5635d4b91d47cf86c2caab28123cfc",
       "version_major": 2,
       "version_minor": 0
      },
      "text/plain": [
       "HBox(children=(HTML(value=''), FloatProgress(value=0.0, max=15000.0), HTML(value='')))"
      ]
     },
     "metadata": {},
     "output_type": "display_data"
    },
    {
     "name": "stdout",
     "output_type": "stream",
     "text": [
      "\n"
     ]
    },
    {
     "name": "stderr",
     "output_type": "stream",
     "text": [
      "C:\\Users\\zankyo\\Anaconda3\\lib\\site-packages\\ipykernel_launcher.py:32: UserWarning: Casting complex values to real discards the imaginary part (Triggered internally at  ..\\aten\\src\\ATen\\native\\Copy.cpp:162.)\n"
     ]
    },
    {
     "name": "stdout",
     "output_type": "stream",
     "text": [
      "torch.Size([2, 129, 257])\n",
      "torch.Size([2, 129, 257])\n"
     ]
    }
   ],
   "source": [
    "# GPU check\n",
    "\n",
    "device = torch.device(\"cuda\" if torch.cuda.is_available() else \"cpu\")\n",
    "print(\"使用デバイス:\", device)\n",
    "\n",
    "# Dataset\n",
    "\n",
    "outname =\"lstm\"\n",
    "\n",
    "outdir = 'C:/Users/zankyo/Desktop/yamamoto/model/' +outname+ now.strftime('%Y%m%d_%H%M%S')\n",
    "print(outdir)\n",
    "\n",
    "audio_len = 2**15\n",
    "usedata_num = 15000\n",
    "sample_rate = 16000\n",
    "\n",
    "batch_size = 2\n",
    "\n",
    "datasets_dir = 'C:/Users/zankyo/Desktop/yamamoto/datasets/datasets129x257.npz'\n",
    "datasets = np.load(datasets_dir)\n",
    "\n",
    "data, label = datasets['data'], datasets['label']\n",
    "\n",
    "data_list = []\n",
    "for i in tqdm(range(len(data))):\n",
    "    data_list.append(data[i])\n",
    "    \n",
    "label_list = []\n",
    "for i in tqdm(range(len(data))):\n",
    "    label_list.append(label[i])\n",
    "    \n",
    "tensor_data = torch.stack([torch.Tensor(i) for i in data_list])\n",
    "tensor_label = torch.stack([torch.Tensor(i) for i in label_list])\n",
    "\n",
    "mydataset = utils.TensorDataset(tensor_data,tensor_label)\n",
    "\n",
    "train_dataset, val_dataset,test_dataset = utils.random_split(mydataset,[12000,2500,500])\n",
    "\n",
    "# Dataloader\n",
    "\n",
    "train_dataloader = utils.DataLoader(train_dataset,batch_size=batch_size,shuffle=True)\n",
    "val_dataloader = utils.DataLoader(val_dataset,batch_size=batch_size,shuffle=True)\n",
    "test_dataloader = utils.DataLoader(test_dataset,batch_size=batch_size,shuffle=True)\n",
    "\n",
    "#辞書型変数にまとめる\n",
    "dataloaders_dict = {\"train\":train_dataloader,\n",
    "                    \"val\":val_dataloader,\n",
    "                    \"test\":test_dataloader}\n",
    "\n",
    "\n",
    "# 動作の確認\n",
    "\"\"\"\n",
    "Batch, Freq(Feature), Time(Sequence)\n",
    "\"\"\"\n",
    "\n",
    "batch_iterator = iter(dataloaders_dict[\"train\"])\n",
    "datas,labels=next(batch_iterator)\n",
    "print(datas.size())\n",
    "print(labels.size())"
   ]
  },
  {
   "cell_type": "code",
   "execution_count": 4,
   "metadata": {},
   "outputs": [],
   "source": [
    "feat_size = data.shape[1] #129\n",
    "sequence_len = data.shape[2] #257\n",
    "lstm_layer = 1\n",
    "hidden_layer =129\n",
    "\n",
    "class Net(pl.LightningModule):\n",
    "    def __init__(self):\n",
    "        \n",
    "        super(Net,self).__init__()\n",
    "        self.seq_len = sequence_len\n",
    "        self.feature_size = feat_size\n",
    "        self.output_size = feat_size\n",
    "        self.hidden_layer_size = hidden_layer #隠れ層のサイズ\n",
    "        self.lstm_layers = lstm_layer #LSTMのレイヤー数\n",
    "        \n",
    "        self.encoder = nn.Sequential(nn.LSTM(self.feature_size,\n",
    "                                           self.hidden_layer_size,\n",
    "                                           num_layers = self.lstm_layers),\n",
    "                                    nn.ReLU(),\n",
    "                                   nn.Linear(self.hidden_layer_size,self.output_size),\n",
    "                                   nn.Sigmoid())\n",
    "    def forword(self,x):\n",
    "        embedding = self.encoder(x)\n",
    "        return embedding        \n",
    "        \n",
    "    def configure_optimizers(self):# Optimaizerの設定\n",
    "        optimizer = torch.optim.Adam(self.parameters(), lr=1e-3)\n",
    "        return optimizer\n",
    "    \n",
    "\n",
    "    def training_step(self, batch, batch_idx):# 完全なトレーニングループ\n",
    "        # training_stepでは訓練ループを定義していて、これはforwardとは独立しています\n",
    "        x, y = batch\n",
    "        z = self.encoder(x)  # forwardを呼び出す self(x) でもよい\n",
    "        loss = nn.L1Loss(z, y)\n",
    "#         loss = F.mse_loss(z, y)\n",
    "        self.log(\"train_loss\", loss)\n",
    "        return loss\n",
    "    \n",
    "    def validation_step(self, val_batch, batch_idx):#完全な検証ループ\n",
    "        # 検証ステップ\n",
    "        x, y = val_batch\n",
    "        z = self.encoder(x)\n",
    "        loss = nn.L1Loss(z, y)\n",
    "#         loss = F.mse_loss(z, y)\n",
    "        self.log(\"val_loss\", loss)\n",
    "        return loss"
   ]
  },
  {
   "cell_type": "code",
   "execution_count": null,
   "metadata": {},
   "outputs": [
    {
     "name": "stderr",
     "output_type": "stream",
     "text": [
      "GPU available: True, used: True\n",
      "TPU available: False, using: 0 TPU cores\n",
      "LOCAL_RANK: 0 - CUDA_VISIBLE_DEVICES: [0]\n"
     ]
    }
   ],
   "source": [
    "#モデルの呼び出しと初期化\n",
    "net =Net()# 学習モデルのインスタンス化\n",
    "#トレーニング開始\n",
    "trainer = pl.Trainer(max_epochs=5, gpus=1)# 学習用のインスタンス化と学習の設定\n",
    "\n",
    "trainer.fit(net, train_dataloader,val_dataloader)"
   ]
  },
  {
   "cell_type": "code",
   "execution_count": null,
   "metadata": {},
   "outputs": [],
   "source": []
  },
  {
   "cell_type": "code",
   "execution_count": null,
   "metadata": {},
   "outputs": [],
   "source": []
  }
 ],
 "metadata": {
  "kernelspec": {
   "display_name": "Python 3",
   "language": "python",
   "name": "python3"
  },
  "language_info": {
   "codemirror_mode": {
    "name": "ipython",
    "version": 3
   },
   "file_extension": ".py",
   "mimetype": "text/x-python",
   "name": "python",
   "nbconvert_exporter": "python",
   "pygments_lexer": "ipython3",
   "version": "3.7.3"
  }
 },
 "nbformat": 4,
 "nbformat_minor": 2
}
