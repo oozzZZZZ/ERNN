{
 "cells": [
  {
   "cell_type": "code",
   "execution_count": 1,
   "metadata": {
    "colab": {
     "base_uri": "https://localhost:8080/"
    },
    "id": "JKmo1hdt4fmA",
    "outputId": "a357a729-ebe5-40b9-b375-34c863598eda"
   },
   "outputs": [],
   "source": [
    "import librosa\n",
    "\n",
    "from IPython.display import display, Audio\n",
    "import glob\n",
    "from tqdm.notebook import tqdm\n",
    "import random\n",
    "import math\n",
    "\n",
    "# !pip install pyroomacoustics\n",
    "# import pyroomacoustics as pa\n",
    "# import pandas as pd\n",
    "\n",
    "from scipy.signal import stft,istft,convolve\n",
    "import scipy as sp\n",
    "import numpy as np"
   ]
  },
  {
   "cell_type": "markdown",
   "metadata": {
    "id": "qH8hv4bQ4yXB"
   },
   "source": [
    "# Datasets\n",
    "音声　CMU Arctic Corpus\n",
    "\n",
    "```\n",
    "# CMU Arctic Corpusのダウンロード(初回のみ)\n",
    "pa.datasets.CMUArcticCorpus(basedir=\"./CMU_ARCTIC\" ,download=True)\n",
    "\n",
    "c_files = \"/disk107/Datasets/CMU_ARCTIC/*/*wav/*.wav\"\n",
    "```\n",
    "雑音 Ernie, UrbanSound8K\n",
    "```\n",
    "# n_files1 = glob.glob(noise1+\"/disk107/Datasets/noise/ernieNoise/trim_wavs/*wav\")#ernie\n",
    "# n_files2 = glob.glob(noise2+\"/disk107/Datasets/UrbanSound8K/audio/fold*/*.wav\")#urban\n",
    "```"
   ]
  },
  {
   "cell_type": "markdown",
   "metadata": {
    "id": "YY8pwIIj5ni5"
   },
   "source": [
    "# データセットの作成"
   ]
  },
  {
   "cell_type": "code",
   "execution_count": 3,
   "metadata": {},
   "outputs": [
    {
     "name": "stdout",
     "output_type": "stream",
     "text": [
      "clear voice is 15090 files\n",
      "Urban Noise is 8732 files\n"
     ]
    }
   ],
   "source": [
    "# c_files = glob.glob(\"/disk107/Datasets/CMU_ARCTIC/*/*wav/*.wav\")\n",
    "# n_files = glob.glob(\"/disk107/Datasets/UrbanSound8K/audio/fold*/*.wav\")\n",
    "\n",
    "c_files = glob.glob(\"C:/Users/zankyo/Desktop/yamamoto/datasets/CMU_ARCTIC/*/*wav/*.wav\")\n",
    "n_files = glob.glob(\"C:/Users/zankyo/Desktop/yamamoto/datasets/UrbanSound8K/audio/fold*/*.wav\")\n",
    "\n",
    "random.shuffle(c_files)\n",
    "random.shuffle(n_files)\n",
    "\n",
    "print(\"clear voice is\",len(c_files),\"files\")\n",
    "print(\"Urban Noise is\",len(n_files),\"files\")\n",
    "\n",
    "audio_len = 2**15\n",
    "usedata_num = 15000\n",
    "sample_rate = 16000\n",
    "\n",
    "#stft\n",
    "# hann_window = 512\n",
    "# DFT_size = 512\n",
    "# time_shift = 256"
   ]
  },
  {
   "cell_type": "code",
   "execution_count": 4,
   "metadata": {},
   "outputs": [],
   "source": [
    "def makePSM(addnoise,clean):\n",
    "    X, S = addnoise, clean #観測信号、所望信号stft型\n",
    "    A = (np.abs(S) / np.abs(X)) * np.cos((np.angle(S)-np.angle(X)))\n",
    "    B = np.maximum(A,0)\n",
    "    G = np.minimum(B,1)\n",
    "    return G"
   ]
  },
  {
   "cell_type": "code",
   "execution_count": 5,
   "metadata": {
    "id": "00Y5JGbu5mRw"
   },
   "outputs": [],
   "source": [
    "def addnoise(c_data,n_data,SNR = 0.1):\n",
    "    \"\"\"\n",
    "    c_data:音声データ\n",
    "    n_data:ノイズデータ\n",
    "    \n",
    "    クリーンな音声データに任意の雑音をつけます。\n",
    "    \n",
    "    音声データの長さがノイズデータの長さより長い時→ノイズデータをリピートして音声データの長さに合わせる\n",
    "    音声データの長さがノイズデータの長さより短い時→ノイズデータを音声な音声データの長さに合わせて切り捨て\n",
    "    \"\"\"\n",
    "\n",
    "    c_data_s = c_data * SNR #ernieノイズの音量が小さいので調整してます。\n",
    "\n",
    "    if len(c_data) == len(n_data):\n",
    "        noise_data = c_data_s + n_data\n",
    "\n",
    "    elif len(c_data) > len(n_data):\n",
    "\n",
    "        q, mod = divmod(len(c_data), len(n_data))\n",
    "\n",
    "        if q == 1:\n",
    "            new = np.append(n_data,n_data[:mod])\n",
    "\n",
    "        else:\n",
    "            new = np.append(n_data,n_data)\n",
    "            for i in range(q-2):\n",
    "                new = np.append(new,n_data)\n",
    "            new = np.append(new,n_data[:mod])\n",
    "\n",
    "        noise_data = c_data_s + new\n",
    "\n",
    "    else:\n",
    "        noise_data = c_data_s + n_data[:len(c_data)]\n",
    "        \n",
    "    return noise_data"
   ]
  },
  {
   "cell_type": "code",
   "execution_count": 12,
   "metadata": {},
   "outputs": [],
   "source": [
    "# STFT test\n",
    "\n",
    "c_data,_ = librosa.load(str(c_files[0]),sr=sample_rate)\n",
    "\n",
    "if len(c_data)<audio_len:\n",
    "    _c_data = np.zeros([audio_len])\n",
    "    _c_data[:len(c_data)] = c_data\n",
    "    c_data = _c_data\n",
    "    \n",
    "else:\n",
    "    c_data = c_data[:audio_len]\n",
    "    \n",
    "n_data,_ = librosa.load(n_files[random.randint(0,len(n_files)-1)],sr=sample_rate)\n",
    "c_n_data = addnoise(c_data,n_data,SNR = random.uniform(0.7, 1.2))\n",
    "\n",
    "# stft\n",
    "_f,_t,stft_data = stft(c_n_data,fs=sample_rate,window='hamming')\n",
    "_f,_t,stft_label= stft(c_data,fs=sample_rate,window='hamming')\n",
    "stft_label_psm = makePSM(stft_data,stft_label)"
   ]
  },
  {
   "cell_type": "code",
   "execution_count": 17,
   "metadata": {},
   "outputs": [
    {
     "name": "stdout",
     "output_type": "stream",
     "text": [
      "data (129, 257) complex64 (129,) (257,)\n",
      "label (129, 257) float32\n"
     ]
    }
   ],
   "source": [
    "print(\"data\",stft_data.shape,stft_data.dtype,_f.shape,_t.shape)\n",
    "print(\"label\",stft_label_psm.shape,stft_label_psm.dtype)"
   ]
  },
  {
   "cell_type": "code",
   "execution_count": 20,
   "metadata": {},
   "outputs": [
    {
     "data": {
      "application/vnd.jupyter.widget-view+json": {
       "model_id": "a7690b0070db47e0a673c49a3a5e09af",
       "version_major": 2,
       "version_minor": 0
      },
      "text/plain": [
       "HBox(children=(HTML(value=''), FloatProgress(value=0.0, max=15000.0), HTML(value='')))"
      ]
     },
     "metadata": {},
     "output_type": "display_data"
    },
    {
     "name": "stderr",
     "output_type": "stream",
     "text": [
      "C:\\Users\\zankyo\\Anaconda3\\lib\\site-packages\\ipykernel_launcher.py:3: RuntimeWarning: invalid value encountered in true_divide\n",
      "  This is separate from the ipykernel package so we can avoid doing imports until\n"
     ]
    },
    {
     "name": "stdout",
     "output_type": "stream",
     "text": [
      "\n"
     ]
    }
   ],
   "source": [
    "#main\n",
    "data = np.zeros([usedata_num,stft_data.shape[0],stft_data.shape[1]],dtype = \"complex64\")\n",
    "label = np.zeros([usedata_num,stft_data.shape[0],stft_data.shape[1]],dtype = \"float32\")\n",
    "\n",
    "for i in tqdm(range(usedata_num)):\n",
    "    # audioデータを作る\n",
    "    c_data,_ = librosa.load(str(c_files[i]),sr=sample_rate)\n",
    "    if len(c_data)<audio_len:\n",
    "        _c_data = np.zeros([audio_len])\n",
    "        _c_data[:len(c_data)] = c_data\n",
    "        c_data = _c_data\n",
    "\n",
    "    else:\n",
    "        c_data = c_data[:audio_len]\n",
    "\n",
    "    \"\"\"\n",
    "    雑音データが足りないので、雑音はランダムに選択し、SNRも0.7-1.2の間からランダムに選択してつけてる\n",
    "    \"\"\"\n",
    "    n_data,_ = librosa.load(n_files[random.randint(0,len(n_files)-1)],sr=sample_rate)\n",
    "    c_n_data = addnoise(c_data,n_data,SNR = random.uniform(0.7, 1.2))\n",
    "\n",
    "    # stft\n",
    "    _f,_t,stft_data = stft(c_n_data,fs=sample_rate,window='hamming')\n",
    "    _f,_t,stft_label= stft(c_data,fs=sample_rate,window='hamming')\n",
    "    stft_label_psm = makePSM(stft_data,stft_label)\n",
    "\n",
    "    # append\n",
    "    data[i] = stft_data\n",
    "    label[i] = stft_label_psm\n",
    "\n",
    "    _, _check = divmod(i, 500)\n",
    "\n",
    "    if _check == 0:#500回ごとに保存\n",
    "        np.savez('C:/Users/zankyo/Desktop/yamamoto/datasets/datasets129x257', data=data, label=label)\n",
    "        \n",
    "np.savez('C:/Users/zankyo/Desktop/yamamoto/datasets/datasets129x257', data=data, label=label)"
   ]
  },
  {
   "cell_type": "code",
   "execution_count": 75,
   "metadata": {},
   "outputs": [
    {
     "data": {
      "text/plain": [
       "(array([-3.9672852e-04,  9.1552734e-05,  0.0000000e+00, ...,\n",
       "         2.1362305e-04,  4.8828125e-04,  1.0070801e-03], dtype=float32),\n",
       " 16000)"
      ]
     },
     "execution_count": 75,
     "metadata": {},
     "output_type": "execute_result"
    }
   ],
   "source": [
    "print(stft_data.shape,stft_label.shape,stft_label_psm.shape)"
   ]
  }
 ],
 "metadata": {
  "colab": {
   "name": "ENNN.ipynb",
   "provenance": []
  },
  "kernelspec": {
   "display_name": "Python 3",
   "language": "python",
   "name": "python3"
  },
  "language_info": {
   "codemirror_mode": {
    "name": "ipython",
    "version": 3
   },
   "file_extension": ".py",
   "mimetype": "text/x-python",
   "name": "python",
   "nbconvert_exporter": "python",
   "pygments_lexer": "ipython3",
   "version": "3.7.3"
  }
 },
 "nbformat": 4,
 "nbformat_minor": 4
}
